{
 "cells": [
  {
   "cell_type": "code",
   "execution_count": 1,
   "metadata": {
    "collapsed": true
   },
   "outputs": [],
   "source": [
    "import pandas as pd"
   ]
  },
  {
   "cell_type": "code",
   "execution_count": 2,
   "metadata": {
    "collapsed": true
   },
   "outputs": [],
   "source": [
    "df = pd.read_csv('Survey_Result_Ries.csv')"
   ]
  },
  {
   "cell_type": "code",
   "execution_count": 3,
   "metadata": {},
   "outputs": [
    {
     "data": {
      "text/html": [
       "<div>\n",
       "<style scoped>\n",
       "    .dataframe tbody tr th:only-of-type {\n",
       "        vertical-align: middle;\n",
       "    }\n",
       "\n",
       "    .dataframe tbody tr th {\n",
       "        vertical-align: top;\n",
       "    }\n",
       "\n",
       "    .dataframe thead th {\n",
       "        text-align: right;\n",
       "    }\n",
       "</style>\n",
       "<table border=\"1\" class=\"dataframe\">\n",
       "  <thead>\n",
       "    <tr style=\"text-align: right;\">\n",
       "      <th></th>\n",
       "      <th>Time</th>\n",
       "      <th>Door</th>\n",
       "      <th>Window</th>\n",
       "      <th>Blinds</th>\n",
       "      <th>Door_sim</th>\n",
       "      <th>Window_sim</th>\n",
       "      <th>Blinds_sim</th>\n",
       "    </tr>\n",
       "  </thead>\n",
       "  <tbody>\n",
       "    <tr>\n",
       "      <th>0</th>\n",
       "      <td>9:00 - 9:15 AM</td>\n",
       "      <td>0</td>\n",
       "      <td>0</td>\n",
       "      <td>1</td>\n",
       "      <td>0</td>\n",
       "      <td>0</td>\n",
       "      <td>1</td>\n",
       "    </tr>\n",
       "    <tr>\n",
       "      <th>1</th>\n",
       "      <td>9:15 -9:30 AM</td>\n",
       "      <td>0</td>\n",
       "      <td>0</td>\n",
       "      <td>1</td>\n",
       "      <td>0</td>\n",
       "      <td>0</td>\n",
       "      <td>1</td>\n",
       "    </tr>\n",
       "    <tr>\n",
       "      <th>2</th>\n",
       "      <td>9:30 - 9:45 AM</td>\n",
       "      <td>0</td>\n",
       "      <td>0</td>\n",
       "      <td>1</td>\n",
       "      <td>0</td>\n",
       "      <td>0</td>\n",
       "      <td>1</td>\n",
       "    </tr>\n",
       "    <tr>\n",
       "      <th>3</th>\n",
       "      <td>9:45 -10:00 AM</td>\n",
       "      <td>0</td>\n",
       "      <td>0</td>\n",
       "      <td>1</td>\n",
       "      <td>0</td>\n",
       "      <td>0</td>\n",
       "      <td>1</td>\n",
       "    </tr>\n",
       "    <tr>\n",
       "      <th>4</th>\n",
       "      <td>10:00 - 10:15 AM</td>\n",
       "      <td>0</td>\n",
       "      <td>0</td>\n",
       "      <td>1</td>\n",
       "      <td>0</td>\n",
       "      <td>0</td>\n",
       "      <td>1</td>\n",
       "    </tr>\n",
       "    <tr>\n",
       "      <th>5</th>\n",
       "      <td>10:15 -10:30 AM</td>\n",
       "      <td>0</td>\n",
       "      <td>0</td>\n",
       "      <td>1</td>\n",
       "      <td>0</td>\n",
       "      <td>0</td>\n",
       "      <td>1</td>\n",
       "    </tr>\n",
       "    <tr>\n",
       "      <th>6</th>\n",
       "      <td>10:30 - 10:45 AM</td>\n",
       "      <td>0</td>\n",
       "      <td>0</td>\n",
       "      <td>1</td>\n",
       "      <td>0</td>\n",
       "      <td>0</td>\n",
       "      <td>1</td>\n",
       "    </tr>\n",
       "    <tr>\n",
       "      <th>7</th>\n",
       "      <td>10:45 -11:00 AM</td>\n",
       "      <td>0</td>\n",
       "      <td>0</td>\n",
       "      <td>1</td>\n",
       "      <td>0</td>\n",
       "      <td>0</td>\n",
       "      <td>1</td>\n",
       "    </tr>\n",
       "    <tr>\n",
       "      <th>8</th>\n",
       "      <td>11:00 - 11:15 AM</td>\n",
       "      <td>0</td>\n",
       "      <td>0</td>\n",
       "      <td>1</td>\n",
       "      <td>0</td>\n",
       "      <td>0</td>\n",
       "      <td>1</td>\n",
       "    </tr>\n",
       "    <tr>\n",
       "      <th>9</th>\n",
       "      <td>11:15 -11:30 AM</td>\n",
       "      <td>0</td>\n",
       "      <td>0</td>\n",
       "      <td>1</td>\n",
       "      <td>0</td>\n",
       "      <td>0</td>\n",
       "      <td>1</td>\n",
       "    </tr>\n",
       "    <tr>\n",
       "      <th>10</th>\n",
       "      <td>11:30 - 11:45 AM</td>\n",
       "      <td>1</td>\n",
       "      <td>0</td>\n",
       "      <td>1</td>\n",
       "      <td>1</td>\n",
       "      <td>0</td>\n",
       "      <td>1</td>\n",
       "    </tr>\n",
       "    <tr>\n",
       "      <th>11</th>\n",
       "      <td>12:45 -1:00 PM</td>\n",
       "      <td>0</td>\n",
       "      <td>0</td>\n",
       "      <td>1</td>\n",
       "      <td>0</td>\n",
       "      <td>0</td>\n",
       "      <td>1</td>\n",
       "    </tr>\n",
       "    <tr>\n",
       "      <th>12</th>\n",
       "      <td>1:00 - 1:15 PM</td>\n",
       "      <td>0</td>\n",
       "      <td>0</td>\n",
       "      <td>1</td>\n",
       "      <td>1</td>\n",
       "      <td>0</td>\n",
       "      <td>1</td>\n",
       "    </tr>\n",
       "    <tr>\n",
       "      <th>13</th>\n",
       "      <td>1:15 - 1:30 PM</td>\n",
       "      <td>0</td>\n",
       "      <td>0</td>\n",
       "      <td>1</td>\n",
       "      <td>1</td>\n",
       "      <td>0</td>\n",
       "      <td>1</td>\n",
       "    </tr>\n",
       "    <tr>\n",
       "      <th>14</th>\n",
       "      <td>1:30 - 1:45 PM</td>\n",
       "      <td>0</td>\n",
       "      <td>0</td>\n",
       "      <td>1</td>\n",
       "      <td>1</td>\n",
       "      <td>1</td>\n",
       "      <td>1</td>\n",
       "    </tr>\n",
       "    <tr>\n",
       "      <th>15</th>\n",
       "      <td>1:45 -2:00 PM</td>\n",
       "      <td>0</td>\n",
       "      <td>0</td>\n",
       "      <td>1</td>\n",
       "      <td>1</td>\n",
       "      <td>1</td>\n",
       "      <td>1</td>\n",
       "    </tr>\n",
       "    <tr>\n",
       "      <th>16</th>\n",
       "      <td>2:00 - 2:15 PM</td>\n",
       "      <td>0</td>\n",
       "      <td>0</td>\n",
       "      <td>1</td>\n",
       "      <td>1</td>\n",
       "      <td>1</td>\n",
       "      <td>1</td>\n",
       "    </tr>\n",
       "    <tr>\n",
       "      <th>17</th>\n",
       "      <td>2:15 - 2:30 PM</td>\n",
       "      <td>0</td>\n",
       "      <td>0</td>\n",
       "      <td>1</td>\n",
       "      <td>1</td>\n",
       "      <td>1</td>\n",
       "      <td>1</td>\n",
       "    </tr>\n",
       "    <tr>\n",
       "      <th>18</th>\n",
       "      <td>2:30 - 2:45 PM</td>\n",
       "      <td>0</td>\n",
       "      <td>0</td>\n",
       "      <td>1</td>\n",
       "      <td>1</td>\n",
       "      <td>0</td>\n",
       "      <td>1</td>\n",
       "    </tr>\n",
       "    <tr>\n",
       "      <th>19</th>\n",
       "      <td>2:45 -3:00 PM</td>\n",
       "      <td>0</td>\n",
       "      <td>0</td>\n",
       "      <td>1</td>\n",
       "      <td>1</td>\n",
       "      <td>0</td>\n",
       "      <td>1</td>\n",
       "    </tr>\n",
       "    <tr>\n",
       "      <th>20</th>\n",
       "      <td>3:00 - 3:15 PM</td>\n",
       "      <td>0</td>\n",
       "      <td>0</td>\n",
       "      <td>1</td>\n",
       "      <td>1</td>\n",
       "      <td>0</td>\n",
       "      <td>1</td>\n",
       "    </tr>\n",
       "    <tr>\n",
       "      <th>21</th>\n",
       "      <td>3:15 - 3:30 PM</td>\n",
       "      <td>0</td>\n",
       "      <td>0</td>\n",
       "      <td>1</td>\n",
       "      <td>1</td>\n",
       "      <td>0</td>\n",
       "      <td>1</td>\n",
       "    </tr>\n",
       "    <tr>\n",
       "      <th>22</th>\n",
       "      <td>3:30 - 3:45 PM</td>\n",
       "      <td>0</td>\n",
       "      <td>0</td>\n",
       "      <td>1</td>\n",
       "      <td>1</td>\n",
       "      <td>0</td>\n",
       "      <td>1</td>\n",
       "    </tr>\n",
       "    <tr>\n",
       "      <th>23</th>\n",
       "      <td>3:45 -4:00 PM</td>\n",
       "      <td>0</td>\n",
       "      <td>0</td>\n",
       "      <td>1</td>\n",
       "      <td>1</td>\n",
       "      <td>0</td>\n",
       "      <td>1</td>\n",
       "    </tr>\n",
       "    <tr>\n",
       "      <th>24</th>\n",
       "      <td>4:00 - 4:15 PM</td>\n",
       "      <td>0</td>\n",
       "      <td>0</td>\n",
       "      <td>1</td>\n",
       "      <td>1</td>\n",
       "      <td>0</td>\n",
       "      <td>1</td>\n",
       "    </tr>\n",
       "    <tr>\n",
       "      <th>25</th>\n",
       "      <td>4:15 - 4:30 PM</td>\n",
       "      <td>0</td>\n",
       "      <td>0</td>\n",
       "      <td>1</td>\n",
       "      <td>1</td>\n",
       "      <td>0</td>\n",
       "      <td>0</td>\n",
       "    </tr>\n",
       "    <tr>\n",
       "      <th>26</th>\n",
       "      <td>4:30 - 4:45 PM</td>\n",
       "      <td>1</td>\n",
       "      <td>0</td>\n",
       "      <td>1</td>\n",
       "      <td>1</td>\n",
       "      <td>0</td>\n",
       "      <td>0</td>\n",
       "    </tr>\n",
       "    <tr>\n",
       "      <th>27</th>\n",
       "      <td>4:45 -5:00 PM</td>\n",
       "      <td>0</td>\n",
       "      <td>0</td>\n",
       "      <td>1</td>\n",
       "      <td>1</td>\n",
       "      <td>0</td>\n",
       "      <td>0</td>\n",
       "    </tr>\n",
       "    <tr>\n",
       "      <th>28</th>\n",
       "      <td>5:00 -5:15 PM</td>\n",
       "      <td>0</td>\n",
       "      <td>0</td>\n",
       "      <td>0</td>\n",
       "      <td>1</td>\n",
       "      <td>0</td>\n",
       "      <td>0</td>\n",
       "    </tr>\n",
       "    <tr>\n",
       "      <th>29</th>\n",
       "      <td>5:15 -5:30 PM</td>\n",
       "      <td>0</td>\n",
       "      <td>0</td>\n",
       "      <td>0</td>\n",
       "      <td>1</td>\n",
       "      <td>0</td>\n",
       "      <td>0</td>\n",
       "    </tr>\n",
       "    <tr>\n",
       "      <th>...</th>\n",
       "      <td>...</td>\n",
       "      <td>...</td>\n",
       "      <td>...</td>\n",
       "      <td>...</td>\n",
       "      <td>...</td>\n",
       "      <td>...</td>\n",
       "      <td>...</td>\n",
       "    </tr>\n",
       "    <tr>\n",
       "      <th>301</th>\n",
       "      <td>9:30 - 9:45 AM</td>\n",
       "      <td>1</td>\n",
       "      <td>1</td>\n",
       "      <td>1</td>\n",
       "      <td>1</td>\n",
       "      <td>1</td>\n",
       "      <td>1</td>\n",
       "    </tr>\n",
       "    <tr>\n",
       "      <th>302</th>\n",
       "      <td>9:45 -10:00 AM</td>\n",
       "      <td>1</td>\n",
       "      <td>1</td>\n",
       "      <td>1</td>\n",
       "      <td>1</td>\n",
       "      <td>0</td>\n",
       "      <td>1</td>\n",
       "    </tr>\n",
       "    <tr>\n",
       "      <th>303</th>\n",
       "      <td>10:00 - 10:15 AM</td>\n",
       "      <td>1</td>\n",
       "      <td>1</td>\n",
       "      <td>1</td>\n",
       "      <td>1</td>\n",
       "      <td>0</td>\n",
       "      <td>1</td>\n",
       "    </tr>\n",
       "    <tr>\n",
       "      <th>304</th>\n",
       "      <td>10:15 -10:30 AM</td>\n",
       "      <td>1</td>\n",
       "      <td>1</td>\n",
       "      <td>1</td>\n",
       "      <td>1</td>\n",
       "      <td>0</td>\n",
       "      <td>1</td>\n",
       "    </tr>\n",
       "    <tr>\n",
       "      <th>305</th>\n",
       "      <td>10:30 - 10:45 AM</td>\n",
       "      <td>1</td>\n",
       "      <td>1</td>\n",
       "      <td>1</td>\n",
       "      <td>1</td>\n",
       "      <td>0</td>\n",
       "      <td>1</td>\n",
       "    </tr>\n",
       "    <tr>\n",
       "      <th>306</th>\n",
       "      <td>10:45 -11:00 AM</td>\n",
       "      <td>1</td>\n",
       "      <td>1</td>\n",
       "      <td>1</td>\n",
       "      <td>1</td>\n",
       "      <td>0</td>\n",
       "      <td>1</td>\n",
       "    </tr>\n",
       "    <tr>\n",
       "      <th>307</th>\n",
       "      <td>11:00 - 11:15 AM</td>\n",
       "      <td>1</td>\n",
       "      <td>0</td>\n",
       "      <td>1</td>\n",
       "      <td>1</td>\n",
       "      <td>0</td>\n",
       "      <td>1</td>\n",
       "    </tr>\n",
       "    <tr>\n",
       "      <th>308</th>\n",
       "      <td>11:15 -11:30 AM</td>\n",
       "      <td>1</td>\n",
       "      <td>0</td>\n",
       "      <td>1</td>\n",
       "      <td>1</td>\n",
       "      <td>0</td>\n",
       "      <td>1</td>\n",
       "    </tr>\n",
       "    <tr>\n",
       "      <th>309</th>\n",
       "      <td>11:30 - 11:45 AM</td>\n",
       "      <td>1</td>\n",
       "      <td>0</td>\n",
       "      <td>1</td>\n",
       "      <td>1</td>\n",
       "      <td>0</td>\n",
       "      <td>1</td>\n",
       "    </tr>\n",
       "    <tr>\n",
       "      <th>310</th>\n",
       "      <td>11:45 -12:00 PM</td>\n",
       "      <td>1</td>\n",
       "      <td>0</td>\n",
       "      <td>1</td>\n",
       "      <td>1</td>\n",
       "      <td>0</td>\n",
       "      <td>1</td>\n",
       "    </tr>\n",
       "    <tr>\n",
       "      <th>311</th>\n",
       "      <td>12:00 - 12:15 PM</td>\n",
       "      <td>1</td>\n",
       "      <td>0</td>\n",
       "      <td>1</td>\n",
       "      <td>1</td>\n",
       "      <td>1</td>\n",
       "      <td>1</td>\n",
       "    </tr>\n",
       "    <tr>\n",
       "      <th>312</th>\n",
       "      <td>12:15 - 12:30 PM</td>\n",
       "      <td>1</td>\n",
       "      <td>0</td>\n",
       "      <td>1</td>\n",
       "      <td>1</td>\n",
       "      <td>0</td>\n",
       "      <td>1</td>\n",
       "    </tr>\n",
       "    <tr>\n",
       "      <th>313</th>\n",
       "      <td>12:30 - 12:45 PM</td>\n",
       "      <td>1</td>\n",
       "      <td>0</td>\n",
       "      <td>1</td>\n",
       "      <td>1</td>\n",
       "      <td>1</td>\n",
       "      <td>1</td>\n",
       "    </tr>\n",
       "    <tr>\n",
       "      <th>314</th>\n",
       "      <td>12:45 -1:00 PM</td>\n",
       "      <td>1</td>\n",
       "      <td>0</td>\n",
       "      <td>1</td>\n",
       "      <td>1</td>\n",
       "      <td>0</td>\n",
       "      <td>1</td>\n",
       "    </tr>\n",
       "    <tr>\n",
       "      <th>315</th>\n",
       "      <td>1:00 - 1:15 PM</td>\n",
       "      <td>1</td>\n",
       "      <td>1</td>\n",
       "      <td>1</td>\n",
       "      <td>1</td>\n",
       "      <td>1</td>\n",
       "      <td>1</td>\n",
       "    </tr>\n",
       "    <tr>\n",
       "      <th>316</th>\n",
       "      <td>1:15 - 1:30 PM</td>\n",
       "      <td>0</td>\n",
       "      <td>1</td>\n",
       "      <td>1</td>\n",
       "      <td>1</td>\n",
       "      <td>0</td>\n",
       "      <td>1</td>\n",
       "    </tr>\n",
       "    <tr>\n",
       "      <th>317</th>\n",
       "      <td>1:30 - 1:45 PM</td>\n",
       "      <td>0</td>\n",
       "      <td>1</td>\n",
       "      <td>1</td>\n",
       "      <td>1</td>\n",
       "      <td>0</td>\n",
       "      <td>1</td>\n",
       "    </tr>\n",
       "    <tr>\n",
       "      <th>318</th>\n",
       "      <td>1:45 -2:00 PM</td>\n",
       "      <td>0</td>\n",
       "      <td>1</td>\n",
       "      <td>1</td>\n",
       "      <td>1</td>\n",
       "      <td>0</td>\n",
       "      <td>1</td>\n",
       "    </tr>\n",
       "    <tr>\n",
       "      <th>319</th>\n",
       "      <td>2:00 - 2:15 PM</td>\n",
       "      <td>0</td>\n",
       "      <td>1</td>\n",
       "      <td>1</td>\n",
       "      <td>1</td>\n",
       "      <td>0</td>\n",
       "      <td>1</td>\n",
       "    </tr>\n",
       "    <tr>\n",
       "      <th>320</th>\n",
       "      <td>2:15 - 2:30 PM</td>\n",
       "      <td>0</td>\n",
       "      <td>1</td>\n",
       "      <td>1</td>\n",
       "      <td>1</td>\n",
       "      <td>0</td>\n",
       "      <td>1</td>\n",
       "    </tr>\n",
       "    <tr>\n",
       "      <th>321</th>\n",
       "      <td>2:30 - 2:45 PM</td>\n",
       "      <td>0</td>\n",
       "      <td>1</td>\n",
       "      <td>1</td>\n",
       "      <td>1</td>\n",
       "      <td>0</td>\n",
       "      <td>1</td>\n",
       "    </tr>\n",
       "    <tr>\n",
       "      <th>322</th>\n",
       "      <td>2:45 -3:00 PM</td>\n",
       "      <td>0</td>\n",
       "      <td>1</td>\n",
       "      <td>1</td>\n",
       "      <td>1</td>\n",
       "      <td>0</td>\n",
       "      <td>1</td>\n",
       "    </tr>\n",
       "    <tr>\n",
       "      <th>323</th>\n",
       "      <td>3:00 - 3:15 PM</td>\n",
       "      <td>0</td>\n",
       "      <td>0</td>\n",
       "      <td>1</td>\n",
       "      <td>1</td>\n",
       "      <td>0</td>\n",
       "      <td>1</td>\n",
       "    </tr>\n",
       "    <tr>\n",
       "      <th>324</th>\n",
       "      <td>3:15 - 3:30 PM</td>\n",
       "      <td>0</td>\n",
       "      <td>0</td>\n",
       "      <td>1</td>\n",
       "      <td>1</td>\n",
       "      <td>0</td>\n",
       "      <td>1</td>\n",
       "    </tr>\n",
       "    <tr>\n",
       "      <th>325</th>\n",
       "      <td>3:30 - 3:45 PM</td>\n",
       "      <td>0</td>\n",
       "      <td>0</td>\n",
       "      <td>1</td>\n",
       "      <td>1</td>\n",
       "      <td>0</td>\n",
       "      <td>1</td>\n",
       "    </tr>\n",
       "    <tr>\n",
       "      <th>326</th>\n",
       "      <td>3:45 -4:00 PM</td>\n",
       "      <td>0</td>\n",
       "      <td>0</td>\n",
       "      <td>1</td>\n",
       "      <td>1</td>\n",
       "      <td>0</td>\n",
       "      <td>1</td>\n",
       "    </tr>\n",
       "    <tr>\n",
       "      <th>327</th>\n",
       "      <td>4:00 - 4:15 PM</td>\n",
       "      <td>0</td>\n",
       "      <td>0</td>\n",
       "      <td>1</td>\n",
       "      <td>1</td>\n",
       "      <td>0</td>\n",
       "      <td>1</td>\n",
       "    </tr>\n",
       "    <tr>\n",
       "      <th>328</th>\n",
       "      <td>4:15 - 4:30 PM</td>\n",
       "      <td>0</td>\n",
       "      <td>0</td>\n",
       "      <td>1</td>\n",
       "      <td>1</td>\n",
       "      <td>0</td>\n",
       "      <td>1</td>\n",
       "    </tr>\n",
       "    <tr>\n",
       "      <th>329</th>\n",
       "      <td>4:30 - 4:45 PM</td>\n",
       "      <td>0</td>\n",
       "      <td>0</td>\n",
       "      <td>1</td>\n",
       "      <td>0</td>\n",
       "      <td>0</td>\n",
       "      <td>1</td>\n",
       "    </tr>\n",
       "    <tr>\n",
       "      <th>330</th>\n",
       "      <td>4:45 -5:00 PM</td>\n",
       "      <td>0</td>\n",
       "      <td>0</td>\n",
       "      <td>1</td>\n",
       "      <td>0</td>\n",
       "      <td>0</td>\n",
       "      <td>1</td>\n",
       "    </tr>\n",
       "  </tbody>\n",
       "</table>\n",
       "<p>331 rows × 7 columns</p>\n",
       "</div>"
      ],
      "text/plain": [
       "                 Time  Door  Window  Blinds  Door_sim  Window_sim  Blinds_sim\n",
       "0      9:00 - 9:15 AM     0       0       1         0           0           1\n",
       "1       9:15 -9:30 AM     0       0       1         0           0           1\n",
       "2      9:30 - 9:45 AM     0       0       1         0           0           1\n",
       "3      9:45 -10:00 AM     0       0       1         0           0           1\n",
       "4    10:00 - 10:15 AM     0       0       1         0           0           1\n",
       "5     10:15 -10:30 AM     0       0       1         0           0           1\n",
       "6    10:30 - 10:45 AM     0       0       1         0           0           1\n",
       "7     10:45 -11:00 AM     0       0       1         0           0           1\n",
       "8    11:00 - 11:15 AM     0       0       1         0           0           1\n",
       "9     11:15 -11:30 AM     0       0       1         0           0           1\n",
       "10   11:30 - 11:45 AM     1       0       1         1           0           1\n",
       "11     12:45 -1:00 PM     0       0       1         0           0           1\n",
       "12     1:00 - 1:15 PM     0       0       1         1           0           1\n",
       "13     1:15 - 1:30 PM     0       0       1         1           0           1\n",
       "14     1:30 - 1:45 PM     0       0       1         1           1           1\n",
       "15      1:45 -2:00 PM     0       0       1         1           1           1\n",
       "16     2:00 - 2:15 PM     0       0       1         1           1           1\n",
       "17     2:15 - 2:30 PM     0       0       1         1           1           1\n",
       "18     2:30 - 2:45 PM     0       0       1         1           0           1\n",
       "19      2:45 -3:00 PM     0       0       1         1           0           1\n",
       "20     3:00 - 3:15 PM     0       0       1         1           0           1\n",
       "21     3:15 - 3:30 PM     0       0       1         1           0           1\n",
       "22     3:30 - 3:45 PM     0       0       1         1           0           1\n",
       "23      3:45 -4:00 PM     0       0       1         1           0           1\n",
       "24     4:00 - 4:15 PM     0       0       1         1           0           1\n",
       "25     4:15 - 4:30 PM     0       0       1         1           0           0\n",
       "26     4:30 - 4:45 PM     1       0       1         1           0           0\n",
       "27      4:45 -5:00 PM     0       0       1         1           0           0\n",
       "28      5:00 -5:15 PM     0       0       0         1           0           0\n",
       "29      5:15 -5:30 PM     0       0       0         1           0           0\n",
       "..                ...   ...     ...     ...       ...         ...         ...\n",
       "301    9:30 - 9:45 AM     1       1       1         1           1           1\n",
       "302    9:45 -10:00 AM     1       1       1         1           0           1\n",
       "303  10:00 - 10:15 AM     1       1       1         1           0           1\n",
       "304   10:15 -10:30 AM     1       1       1         1           0           1\n",
       "305  10:30 - 10:45 AM     1       1       1         1           0           1\n",
       "306   10:45 -11:00 AM     1       1       1         1           0           1\n",
       "307  11:00 - 11:15 AM     1       0       1         1           0           1\n",
       "308   11:15 -11:30 AM     1       0       1         1           0           1\n",
       "309  11:30 - 11:45 AM     1       0       1         1           0           1\n",
       "310   11:45 -12:00 PM     1       0       1         1           0           1\n",
       "311  12:00 - 12:15 PM     1       0       1         1           1           1\n",
       "312  12:15 - 12:30 PM     1       0       1         1           0           1\n",
       "313  12:30 - 12:45 PM     1       0       1         1           1           1\n",
       "314    12:45 -1:00 PM     1       0       1         1           0           1\n",
       "315    1:00 - 1:15 PM     1       1       1         1           1           1\n",
       "316    1:15 - 1:30 PM     0       1       1         1           0           1\n",
       "317    1:30 - 1:45 PM     0       1       1         1           0           1\n",
       "318     1:45 -2:00 PM     0       1       1         1           0           1\n",
       "319    2:00 - 2:15 PM     0       1       1         1           0           1\n",
       "320    2:15 - 2:30 PM     0       1       1         1           0           1\n",
       "321    2:30 - 2:45 PM     0       1       1         1           0           1\n",
       "322     2:45 -3:00 PM     0       1       1         1           0           1\n",
       "323    3:00 - 3:15 PM     0       0       1         1           0           1\n",
       "324    3:15 - 3:30 PM     0       0       1         1           0           1\n",
       "325    3:30 - 3:45 PM     0       0       1         1           0           1\n",
       "326     3:45 -4:00 PM     0       0       1         1           0           1\n",
       "327    4:00 - 4:15 PM     0       0       1         1           0           1\n",
       "328    4:15 - 4:30 PM     0       0       1         1           0           1\n",
       "329    4:30 - 4:45 PM     0       0       1         0           0           1\n",
       "330     4:45 -5:00 PM     0       0       1         0           0           1\n",
       "\n",
       "[331 rows x 7 columns]"
      ]
     },
     "execution_count": 3,
     "metadata": {},
     "output_type": "execute_result"
    }
   ],
   "source": [
    "df"
   ]
  },
  {
   "cell_type": "code",
   "execution_count": 4,
   "metadata": {},
   "outputs": [
    {
     "data": {
      "text/plain": [
       "1    186\n",
       "0    145\n",
       "Name: Door_sim, dtype: int64"
      ]
     },
     "execution_count": 4,
     "metadata": {},
     "output_type": "execute_result"
    }
   ],
   "source": [
    "df['Door_sim'].value_counts()"
   ]
  },
  {
   "cell_type": "code",
   "execution_count": 5,
   "metadata": {},
   "outputs": [
    {
     "data": {
      "text/plain": [
       "0    169\n",
       "1    162\n",
       "Name: Window_sim, dtype: int64"
      ]
     },
     "execution_count": 5,
     "metadata": {},
     "output_type": "execute_result"
    }
   ],
   "source": [
    "df['Window_sim'].value_counts()"
   ]
  },
  {
   "cell_type": "code",
   "execution_count": 6,
   "metadata": {},
   "outputs": [
    {
     "data": {
      "text/plain": [
       "1    316\n",
       "0     15\n",
       "Name: Blinds_sim, dtype: int64"
      ]
     },
     "execution_count": 6,
     "metadata": {},
     "output_type": "execute_result"
    }
   ],
   "source": [
    "df['Blinds_sim'].value_counts()"
   ]
  },
  {
   "cell_type": "code",
   "execution_count": 7,
   "metadata": {
    "collapsed": true
   },
   "outputs": [],
   "source": [
    "TP_Door = 0\n",
    "for index, row in df.iterrows():\n",
    "    if row['Door']==1 and row['Door_sim']==1:\n",
    "        TP_Door = TP_Door + 1"
   ]
  },
  {
   "cell_type": "code",
   "execution_count": 8,
   "metadata": {
    "collapsed": true
   },
   "outputs": [],
   "source": [
    "TN_Door = 0\n",
    "for index, row in df.iterrows():\n",
    "    if row['Door']==0 and row['Door_sim']==0:\n",
    "        TN_Door = TN_Door + 1"
   ]
  },
  {
   "cell_type": "code",
   "execution_count": 9,
   "metadata": {
    "collapsed": true
   },
   "outputs": [],
   "source": [
    "FP_Door = 0\n",
    "for index, row in df.iterrows():\n",
    "    if row['Door']==0 and row['Door_sim']==1:\n",
    "        FP_Door = FP_Door + 1"
   ]
  },
  {
   "cell_type": "code",
   "execution_count": 10,
   "metadata": {
    "collapsed": true
   },
   "outputs": [],
   "source": [
    "FN_Door = 0\n",
    "for index, row in df.iterrows():\n",
    "    if row['Door']==1 and row['Door_sim']==0:\n",
    "        FN_Door = FN_Door + 1"
   ]
  },
  {
   "cell_type": "code",
   "execution_count": 11,
   "metadata": {
    "collapsed": true
   },
   "outputs": [],
   "source": [
    "Recall_Door = TP_Door/(TP_Door + FN_Door)"
   ]
  },
  {
   "cell_type": "code",
   "execution_count": 12,
   "metadata": {},
   "outputs": [
    {
     "data": {
      "text/plain": [
       "0.8839285714285714"
      ]
     },
     "execution_count": 12,
     "metadata": {},
     "output_type": "execute_result"
    }
   ],
   "source": [
    "Recall_Door"
   ]
  },
  {
   "cell_type": "code",
   "execution_count": 13,
   "metadata": {},
   "outputs": [
    {
     "data": {
      "text/plain": [
       "0.6027397260273972"
      ]
     },
     "execution_count": 13,
     "metadata": {},
     "output_type": "execute_result"
    }
   ],
   "source": [
    "TN_Door/(TN_Door + FP_Door)"
   ]
  },
  {
   "cell_type": "code",
   "execution_count": 14,
   "metadata": {},
   "outputs": [
    {
     "data": {
      "text/plain": [
       "0.3972602739726027"
      ]
     },
     "execution_count": 14,
     "metadata": {},
     "output_type": "execute_result"
    }
   ],
   "source": [
    "FP_Door/(TN_Door + FP_Door)"
   ]
  },
  {
   "cell_type": "code",
   "execution_count": 15,
   "metadata": {
    "collapsed": true
   },
   "outputs": [],
   "source": [
    "Precision_Door = TP_Door/(TP_Door + FP_Door)"
   ]
  },
  {
   "cell_type": "code",
   "execution_count": 16,
   "metadata": {},
   "outputs": [
    {
     "data": {
      "text/plain": [
       "0.532258064516129"
      ]
     },
     "execution_count": 16,
     "metadata": {},
     "output_type": "execute_result"
    }
   ],
   "source": [
    "Precision_Door"
   ]
  },
  {
   "cell_type": "code",
   "execution_count": 17,
   "metadata": {
    "collapsed": true
   },
   "outputs": [],
   "source": [
    "Accuracy_Door = (TP_Door + TN_Door)/(TP_Door + FP_Door + FN_Door + TN_Door)"
   ]
  },
  {
   "cell_type": "code",
   "execution_count": 18,
   "metadata": {},
   "outputs": [
    {
     "data": {
      "text/plain": [
       "0.6978851963746223"
      ]
     },
     "execution_count": 18,
     "metadata": {},
     "output_type": "execute_result"
    }
   ],
   "source": [
    "Accuracy_Door"
   ]
  },
  {
   "cell_type": "code",
   "execution_count": 19,
   "metadata": {
    "collapsed": true
   },
   "outputs": [],
   "source": [
    "F1_Door = 2*TP_Door/(2*TP_Door + FP_Door + FN_Door)"
   ]
  },
  {
   "cell_type": "code",
   "execution_count": 20,
   "metadata": {},
   "outputs": [
    {
     "data": {
      "text/plain": [
       "0.6644295302013423"
      ]
     },
     "execution_count": 20,
     "metadata": {},
     "output_type": "execute_result"
    }
   ],
   "source": [
    "F1_Door"
   ]
  },
  {
   "cell_type": "code",
   "execution_count": 21,
   "metadata": {
    "collapsed": true
   },
   "outputs": [],
   "source": [
    "TP_Window = 0\n",
    "for index, row in df.iterrows():\n",
    "    if row['Window']==1 and row['Window_sim']==1:\n",
    "        TP_Window = TP_Window + 1"
   ]
  },
  {
   "cell_type": "code",
   "execution_count": 22,
   "metadata": {
    "collapsed": true
   },
   "outputs": [],
   "source": [
    "TN_Window = 0\n",
    "for index, row in df.iterrows():\n",
    "    if row['Window']==0 and row['Window_sim']==0:\n",
    "        TN_Window = TN_Window + 1"
   ]
  },
  {
   "cell_type": "code",
   "execution_count": 23,
   "metadata": {
    "collapsed": true
   },
   "outputs": [],
   "source": [
    "FP_Window = 0\n",
    "for index, row in df.iterrows():\n",
    "    if row['Window']==0 and row['Window_sim']==1:\n",
    "        FP_Window = FP_Window + 1"
   ]
  },
  {
   "cell_type": "code",
   "execution_count": 24,
   "metadata": {
    "collapsed": true
   },
   "outputs": [],
   "source": [
    "FN_Window = 0\n",
    "for index, row in df.iterrows():\n",
    "    if row['Window']==1 and row['Window_sim']==0:\n",
    "        FN_Window = FN_Window + 1"
   ]
  },
  {
   "cell_type": "code",
   "execution_count": 25,
   "metadata": {
    "collapsed": true
   },
   "outputs": [],
   "source": [
    "Recall_Window = TP_Window/(TP_Window + FN_Window)"
   ]
  },
  {
   "cell_type": "code",
   "execution_count": 26,
   "metadata": {},
   "outputs": [
    {
     "data": {
      "text/plain": [
       "0.783625730994152"
      ]
     },
     "execution_count": 26,
     "metadata": {},
     "output_type": "execute_result"
    }
   ],
   "source": [
    "Recall_Window"
   ]
  },
  {
   "cell_type": "code",
   "execution_count": 27,
   "metadata": {},
   "outputs": [
    {
     "data": {
      "text/plain": [
       "0.825"
      ]
     },
     "execution_count": 27,
     "metadata": {},
     "output_type": "execute_result"
    }
   ],
   "source": [
    "TN_Window/(TN_Window + FP_Window)"
   ]
  },
  {
   "cell_type": "code",
   "execution_count": 28,
   "metadata": {},
   "outputs": [
    {
     "data": {
      "text/plain": [
       "0.175"
      ]
     },
     "execution_count": 28,
     "metadata": {},
     "output_type": "execute_result"
    }
   ],
   "source": [
    "FP_Window/(TN_Window + FP_Window)"
   ]
  },
  {
   "cell_type": "code",
   "execution_count": 29,
   "metadata": {
    "collapsed": true
   },
   "outputs": [],
   "source": [
    "Precision_Window = TP_Window/(TP_Window + FP_Window)"
   ]
  },
  {
   "cell_type": "code",
   "execution_count": 30,
   "metadata": {},
   "outputs": [
    {
     "data": {
      "text/plain": [
       "0.8271604938271605"
      ]
     },
     "execution_count": 30,
     "metadata": {},
     "output_type": "execute_result"
    }
   ],
   "source": [
    "Precision_Window"
   ]
  },
  {
   "cell_type": "code",
   "execution_count": 31,
   "metadata": {
    "collapsed": true
   },
   "outputs": [],
   "source": [
    "Accuracy_Window = (TP_Window + TN_Window)/(TP_Window + FP_Window + FN_Window + TN_Window)"
   ]
  },
  {
   "cell_type": "code",
   "execution_count": 32,
   "metadata": {},
   "outputs": [
    {
     "data": {
      "text/plain": [
       "0.8036253776435045"
      ]
     },
     "execution_count": 32,
     "metadata": {},
     "output_type": "execute_result"
    }
   ],
   "source": [
    "Accuracy_Window"
   ]
  },
  {
   "cell_type": "code",
   "execution_count": 33,
   "metadata": {
    "collapsed": true
   },
   "outputs": [],
   "source": [
    "F1_Window = 2*TP_Window/(2*TP_Window + FP_Window + FN_Window)"
   ]
  },
  {
   "cell_type": "code",
   "execution_count": 34,
   "metadata": {},
   "outputs": [
    {
     "data": {
      "text/plain": [
       "0.8048048048048048"
      ]
     },
     "execution_count": 34,
     "metadata": {},
     "output_type": "execute_result"
    }
   ],
   "source": [
    "F1_Window "
   ]
  },
  {
   "cell_type": "code",
   "execution_count": 35,
   "metadata": {
    "collapsed": true
   },
   "outputs": [],
   "source": [
    "TP_Blinds = 0\n",
    "for index, row in df.iterrows():\n",
    "    if row['Blinds']==1 and row['Blinds_sim']==1:\n",
    "        TP_Blinds = TP_Blinds + 1"
   ]
  },
  {
   "cell_type": "code",
   "execution_count": 36,
   "metadata": {
    "collapsed": true
   },
   "outputs": [],
   "source": [
    "TN_Blinds = 0\n",
    "for index, row in df.iterrows():\n",
    "    if row['Blinds']==0 and row['Blinds_sim']==0:\n",
    "        TN_Blinds = TN_Blinds + 1"
   ]
  },
  {
   "cell_type": "code",
   "execution_count": 37,
   "metadata": {
    "collapsed": true
   },
   "outputs": [],
   "source": [
    "FP_Blinds = 0\n",
    "for index, row in df.iterrows():\n",
    "    if row['Blinds']==0 and row['Blinds_sim']==1:\n",
    "        FP_Blinds = FP_Blinds + 1"
   ]
  },
  {
   "cell_type": "code",
   "execution_count": 38,
   "metadata": {
    "collapsed": true
   },
   "outputs": [],
   "source": [
    "FN_Blinds = 0\n",
    "for index, row in df.iterrows():\n",
    "    if row['Blinds']==1 and row['Blinds_sim']==0:\n",
    "        FN_Blinds = FN_Blinds + 1"
   ]
  },
  {
   "cell_type": "code",
   "execution_count": 39,
   "metadata": {
    "collapsed": true
   },
   "outputs": [],
   "source": [
    "Recall_Blinds = TP_Blinds/(TP_Blinds + FN_Blinds)"
   ]
  },
  {
   "cell_type": "code",
   "execution_count": 40,
   "metadata": {},
   "outputs": [
    {
     "data": {
      "text/plain": [
       "0.978328173374613"
      ]
     },
     "execution_count": 40,
     "metadata": {},
     "output_type": "execute_result"
    }
   ],
   "source": [
    "Recall_Blinds"
   ]
  },
  {
   "cell_type": "code",
   "execution_count": 41,
   "metadata": {},
   "outputs": [
    {
     "data": {
      "text/plain": [
       "1.0"
      ]
     },
     "execution_count": 41,
     "metadata": {},
     "output_type": "execute_result"
    }
   ],
   "source": [
    "TN_Blinds/(TN_Blinds + FP_Blinds)"
   ]
  },
  {
   "cell_type": "code",
   "execution_count": 42,
   "metadata": {},
   "outputs": [
    {
     "data": {
      "text/plain": [
       "0.0"
      ]
     },
     "execution_count": 42,
     "metadata": {},
     "output_type": "execute_result"
    }
   ],
   "source": [
    "FP_Blinds/(TN_Blinds + FP_Blinds)"
   ]
  },
  {
   "cell_type": "code",
   "execution_count": 43,
   "metadata": {
    "collapsed": true
   },
   "outputs": [],
   "source": [
    "Precision_Blinds = TP_Blinds/(TP_Blinds + FP_Blinds)"
   ]
  },
  {
   "cell_type": "code",
   "execution_count": 44,
   "metadata": {},
   "outputs": [
    {
     "data": {
      "text/plain": [
       "1.0"
      ]
     },
     "execution_count": 44,
     "metadata": {},
     "output_type": "execute_result"
    }
   ],
   "source": [
    "Precision_Blinds"
   ]
  },
  {
   "cell_type": "code",
   "execution_count": 45,
   "metadata": {
    "collapsed": true
   },
   "outputs": [],
   "source": [
    "Accuracy_Blinds = (TP_Blinds + TN_Blinds)/(TP_Blinds + FP_Blinds + FN_Blinds + TN_Blinds)"
   ]
  },
  {
   "cell_type": "code",
   "execution_count": 46,
   "metadata": {},
   "outputs": [
    {
     "data": {
      "text/plain": [
       "0.9788519637462235"
      ]
     },
     "execution_count": 46,
     "metadata": {},
     "output_type": "execute_result"
    }
   ],
   "source": [
    "Accuracy_Blinds"
   ]
  },
  {
   "cell_type": "code",
   "execution_count": 47,
   "metadata": {
    "collapsed": true
   },
   "outputs": [],
   "source": [
    "F1_Blinds = 2*TP_Blinds/(2*TP_Blinds + FP_Blinds + FN_Blinds)"
   ]
  },
  {
   "cell_type": "code",
   "execution_count": 48,
   "metadata": {},
   "outputs": [
    {
     "data": {
      "text/plain": [
       "0.9890453834115805"
      ]
     },
     "execution_count": 48,
     "metadata": {},
     "output_type": "execute_result"
    }
   ],
   "source": [
    "F1_Blinds"
   ]
  },
  {
   "cell_type": "code",
   "execution_count": 94,
   "metadata": {
    "collapsed": true
   },
   "outputs": [],
   "source": [
    "df_1 = pd.read_csv('Ries/2-28-all.csv')"
   ]
  },
  {
   "cell_type": "code",
   "execution_count": 95,
   "metadata": {},
   "outputs": [
    {
     "data": {
      "text/html": [
       "<div>\n",
       "<style scoped>\n",
       "    .dataframe tbody tr th:only-of-type {\n",
       "        vertical-align: middle;\n",
       "    }\n",
       "\n",
       "    .dataframe tbody tr th {\n",
       "        vertical-align: top;\n",
       "    }\n",
       "\n",
       "    .dataframe thead th {\n",
       "        text-align: right;\n",
       "    }\n",
       "</style>\n",
       "<table border=\"1\" class=\"dataframe\">\n",
       "  <thead>\n",
       "    <tr style=\"text-align: right;\">\n",
       "      <th></th>\n",
       "      <th>Temperature</th>\n",
       "      <th>Relative_Humidity</th>\n",
       "      <th>Illumination</th>\n",
       "      <th>CO2</th>\n",
       "      <th>Timestamp</th>\n",
       "      <th>out_t</th>\n",
       "      <th>out_h</th>\n",
       "    </tr>\n",
       "  </thead>\n",
       "  <tbody>\n",
       "    <tr>\n",
       "      <th>0</th>\n",
       "      <td>21.799999</td>\n",
       "      <td>32.599998</td>\n",
       "      <td>42.5952</td>\n",
       "      <td>496</td>\n",
       "      <td>9:01:45 AM</td>\n",
       "      <td>16.7</td>\n",
       "      <td>90</td>\n",
       "    </tr>\n",
       "    <tr>\n",
       "      <th>1</th>\n",
       "      <td>21.799999</td>\n",
       "      <td>32.700001</td>\n",
       "      <td>56.3040</td>\n",
       "      <td>497</td>\n",
       "      <td>9:06:47 AM</td>\n",
       "      <td>16.7</td>\n",
       "      <td>90</td>\n",
       "    </tr>\n",
       "    <tr>\n",
       "      <th>2</th>\n",
       "      <td>21.799999</td>\n",
       "      <td>32.400002</td>\n",
       "      <td>56.3040</td>\n",
       "      <td>500</td>\n",
       "      <td>9:11:50 AM</td>\n",
       "      <td>16.7</td>\n",
       "      <td>90</td>\n",
       "    </tr>\n",
       "    <tr>\n",
       "      <th>3</th>\n",
       "      <td>21.799999</td>\n",
       "      <td>32.599998</td>\n",
       "      <td>74.0928</td>\n",
       "      <td>535</td>\n",
       "      <td>9:16:52 AM</td>\n",
       "      <td>16.7</td>\n",
       "      <td>90</td>\n",
       "    </tr>\n",
       "    <tr>\n",
       "      <th>4</th>\n",
       "      <td>21.900000</td>\n",
       "      <td>33.200001</td>\n",
       "      <td>79.6416</td>\n",
       "      <td>545</td>\n",
       "      <td>9:21:54 AM</td>\n",
       "      <td>16.7</td>\n",
       "      <td>90</td>\n",
       "    </tr>\n",
       "    <tr>\n",
       "      <th>5</th>\n",
       "      <td>22.000000</td>\n",
       "      <td>33.099998</td>\n",
       "      <td>64.4640</td>\n",
       "      <td>559</td>\n",
       "      <td>9:26:56 AM</td>\n",
       "      <td>16.7</td>\n",
       "      <td>90</td>\n",
       "    </tr>\n",
       "    <tr>\n",
       "      <th>6</th>\n",
       "      <td>22.100000</td>\n",
       "      <td>35.900002</td>\n",
       "      <td>91.8816</td>\n",
       "      <td>578</td>\n",
       "      <td>9:31:58 AM</td>\n",
       "      <td>16.7</td>\n",
       "      <td>90</td>\n",
       "    </tr>\n",
       "    <tr>\n",
       "      <th>7</th>\n",
       "      <td>22.100000</td>\n",
       "      <td>33.799999</td>\n",
       "      <td>91.8816</td>\n",
       "      <td>564</td>\n",
       "      <td>9:37:01 AM</td>\n",
       "      <td>16.7</td>\n",
       "      <td>90</td>\n",
       "    </tr>\n",
       "    <tr>\n",
       "      <th>8</th>\n",
       "      <td>22.000000</td>\n",
       "      <td>33.200001</td>\n",
       "      <td>78.1728</td>\n",
       "      <td>557</td>\n",
       "      <td>9:42:03 AM</td>\n",
       "      <td>16.7</td>\n",
       "      <td>90</td>\n",
       "    </tr>\n",
       "    <tr>\n",
       "      <th>9</th>\n",
       "      <td>22.100000</td>\n",
       "      <td>33.299999</td>\n",
       "      <td>79.6416</td>\n",
       "      <td>553</td>\n",
       "      <td>9:47:05 AM</td>\n",
       "      <td>16.7</td>\n",
       "      <td>90</td>\n",
       "    </tr>\n",
       "    <tr>\n",
       "      <th>10</th>\n",
       "      <td>22.000000</td>\n",
       "      <td>33.299999</td>\n",
       "      <td>101.5104</td>\n",
       "      <td>552</td>\n",
       "      <td>9:52:07 AM</td>\n",
       "      <td>16.7</td>\n",
       "      <td>90</td>\n",
       "    </tr>\n",
       "    <tr>\n",
       "      <th>11</th>\n",
       "      <td>21.900000</td>\n",
       "      <td>33.299999</td>\n",
       "      <td>111.1392</td>\n",
       "      <td>551</td>\n",
       "      <td>9:57:09 AM</td>\n",
       "      <td>20.0</td>\n",
       "      <td>78</td>\n",
       "    </tr>\n",
       "    <tr>\n",
       "      <th>12</th>\n",
       "      <td>21.799999</td>\n",
       "      <td>33.700001</td>\n",
       "      <td>98.8992</td>\n",
       "      <td>570</td>\n",
       "      <td>10:02:12 AM</td>\n",
       "      <td>20.0</td>\n",
       "      <td>78</td>\n",
       "    </tr>\n",
       "    <tr>\n",
       "      <th>13</th>\n",
       "      <td>21.900000</td>\n",
       "      <td>33.799999</td>\n",
       "      <td>91.8816</td>\n",
       "      <td>564</td>\n",
       "      <td>10:07:14 AM</td>\n",
       "      <td>20.0</td>\n",
       "      <td>78</td>\n",
       "    </tr>\n",
       "    <tr>\n",
       "      <th>14</th>\n",
       "      <td>21.799999</td>\n",
       "      <td>34.000000</td>\n",
       "      <td>101.5104</td>\n",
       "      <td>560</td>\n",
       "      <td>10:12:16 AM</td>\n",
       "      <td>20.0</td>\n",
       "      <td>78</td>\n",
       "    </tr>\n",
       "    <tr>\n",
       "      <th>15</th>\n",
       "      <td>21.799999</td>\n",
       "      <td>34.200001</td>\n",
       "      <td>116.6880</td>\n",
       "      <td>559</td>\n",
       "      <td>10:17:18 AM</td>\n",
       "      <td>20.0</td>\n",
       "      <td>78</td>\n",
       "    </tr>\n",
       "    <tr>\n",
       "      <th>16</th>\n",
       "      <td>21.700001</td>\n",
       "      <td>34.299999</td>\n",
       "      <td>107.0592</td>\n",
       "      <td>559</td>\n",
       "      <td>10:22:21 AM</td>\n",
       "      <td>20.0</td>\n",
       "      <td>78</td>\n",
       "    </tr>\n",
       "    <tr>\n",
       "      <th>17</th>\n",
       "      <td>21.700001</td>\n",
       "      <td>34.500000</td>\n",
       "      <td>116.6880</td>\n",
       "      <td>559</td>\n",
       "      <td>10:27:23 AM</td>\n",
       "      <td>20.0</td>\n",
       "      <td>78</td>\n",
       "    </tr>\n",
       "    <tr>\n",
       "      <th>18</th>\n",
       "      <td>21.700001</td>\n",
       "      <td>34.599998</td>\n",
       "      <td>135.9456</td>\n",
       "      <td>558</td>\n",
       "      <td>10:32:25 AM</td>\n",
       "      <td>20.0</td>\n",
       "      <td>78</td>\n",
       "    </tr>\n",
       "    <tr>\n",
       "      <th>19</th>\n",
       "      <td>21.700001</td>\n",
       "      <td>34.799999</td>\n",
       "      <td>112.6080</td>\n",
       "      <td>561</td>\n",
       "      <td>10:37:27 AM</td>\n",
       "      <td>20.0</td>\n",
       "      <td>78</td>\n",
       "    </tr>\n",
       "    <tr>\n",
       "      <th>20</th>\n",
       "      <td>21.700001</td>\n",
       "      <td>34.900002</td>\n",
       "      <td>101.5104</td>\n",
       "      <td>565</td>\n",
       "      <td>10:42:29 AM</td>\n",
       "      <td>20.0</td>\n",
       "      <td>78</td>\n",
       "    </tr>\n",
       "    <tr>\n",
       "      <th>21</th>\n",
       "      <td>21.600000</td>\n",
       "      <td>35.200001</td>\n",
       "      <td>104.4480</td>\n",
       "      <td>570</td>\n",
       "      <td>10:47:32 AM</td>\n",
       "      <td>20.0</td>\n",
       "      <td>78</td>\n",
       "    </tr>\n",
       "    <tr>\n",
       "      <th>22</th>\n",
       "      <td>21.600000</td>\n",
       "      <td>35.500000</td>\n",
       "      <td>114.0768</td>\n",
       "      <td>580</td>\n",
       "      <td>10:52:34 AM</td>\n",
       "      <td>20.0</td>\n",
       "      <td>78</td>\n",
       "    </tr>\n",
       "    <tr>\n",
       "      <th>23</th>\n",
       "      <td>21.500000</td>\n",
       "      <td>35.599998</td>\n",
       "      <td>122.2368</td>\n",
       "      <td>587</td>\n",
       "      <td>10:57:36 AM</td>\n",
       "      <td>21.7</td>\n",
       "      <td>70</td>\n",
       "    </tr>\n",
       "    <tr>\n",
       "      <th>24</th>\n",
       "      <td>21.600000</td>\n",
       "      <td>35.900002</td>\n",
       "      <td>120.7680</td>\n",
       "      <td>591</td>\n",
       "      <td>11:02:38 AM</td>\n",
       "      <td>21.7</td>\n",
       "      <td>70</td>\n",
       "    </tr>\n",
       "    <tr>\n",
       "      <th>25</th>\n",
       "      <td>21.500000</td>\n",
       "      <td>36.099998</td>\n",
       "      <td>118.1568</td>\n",
       "      <td>593</td>\n",
       "      <td>11:07:41 AM</td>\n",
       "      <td>21.7</td>\n",
       "      <td>70</td>\n",
       "    </tr>\n",
       "    <tr>\n",
       "      <th>26</th>\n",
       "      <td>21.500000</td>\n",
       "      <td>36.299999</td>\n",
       "      <td>108.5280</td>\n",
       "      <td>597</td>\n",
       "      <td>11:12:43 AM</td>\n",
       "      <td>21.7</td>\n",
       "      <td>70</td>\n",
       "    </tr>\n",
       "    <tr>\n",
       "      <th>27</th>\n",
       "      <td>21.500000</td>\n",
       "      <td>36.500000</td>\n",
       "      <td>126.3168</td>\n",
       "      <td>600</td>\n",
       "      <td>11:17:45 AM</td>\n",
       "      <td>21.7</td>\n",
       "      <td>70</td>\n",
       "    </tr>\n",
       "    <tr>\n",
       "      <th>28</th>\n",
       "      <td>21.500000</td>\n",
       "      <td>36.799999</td>\n",
       "      <td>172.9920</td>\n",
       "      <td>603</td>\n",
       "      <td>11:22:47 AM</td>\n",
       "      <td>21.7</td>\n",
       "      <td>70</td>\n",
       "    </tr>\n",
       "    <tr>\n",
       "      <th>29</th>\n",
       "      <td>21.500000</td>\n",
       "      <td>37.000000</td>\n",
       "      <td>147.0432</td>\n",
       "      <td>612</td>\n",
       "      <td>11:27:49 AM</td>\n",
       "      <td>21.7</td>\n",
       "      <td>70</td>\n",
       "    </tr>\n",
       "    <tr>\n",
       "      <th>...</th>\n",
       "      <td>...</td>\n",
       "      <td>...</td>\n",
       "      <td>...</td>\n",
       "      <td>...</td>\n",
       "      <td>...</td>\n",
       "      <td>...</td>\n",
       "      <td>...</td>\n",
       "    </tr>\n",
       "    <tr>\n",
       "      <th>75</th>\n",
       "      <td>23.200001</td>\n",
       "      <td>32.900002</td>\n",
       "      <td>171.5232</td>\n",
       "      <td>736</td>\n",
       "      <td>3:19:42 PM</td>\n",
       "      <td>26.1</td>\n",
       "      <td>52</td>\n",
       "    </tr>\n",
       "    <tr>\n",
       "      <th>76</th>\n",
       "      <td>23.200001</td>\n",
       "      <td>32.900002</td>\n",
       "      <td>237.4560</td>\n",
       "      <td>730</td>\n",
       "      <td>3:24:44 PM</td>\n",
       "      <td>26.1</td>\n",
       "      <td>52</td>\n",
       "    </tr>\n",
       "    <tr>\n",
       "      <th>77</th>\n",
       "      <td>23.200001</td>\n",
       "      <td>32.900002</td>\n",
       "      <td>256.7136</td>\n",
       "      <td>727</td>\n",
       "      <td>3:29:46 PM</td>\n",
       "      <td>26.1</td>\n",
       "      <td>52</td>\n",
       "    </tr>\n",
       "    <tr>\n",
       "      <th>78</th>\n",
       "      <td>23.200001</td>\n",
       "      <td>32.900002</td>\n",
       "      <td>190.7808</td>\n",
       "      <td>723</td>\n",
       "      <td>3:34:49 PM</td>\n",
       "      <td>26.1</td>\n",
       "      <td>52</td>\n",
       "    </tr>\n",
       "    <tr>\n",
       "      <th>79</th>\n",
       "      <td>23.299999</td>\n",
       "      <td>33.000000</td>\n",
       "      <td>152.2656</td>\n",
       "      <td>715</td>\n",
       "      <td>3:39:51 PM</td>\n",
       "      <td>26.1</td>\n",
       "      <td>52</td>\n",
       "    </tr>\n",
       "    <tr>\n",
       "      <th>80</th>\n",
       "      <td>23.299999</td>\n",
       "      <td>33.000000</td>\n",
       "      <td>219.6672</td>\n",
       "      <td>713</td>\n",
       "      <td>3:44:53 PM</td>\n",
       "      <td>26.1</td>\n",
       "      <td>52</td>\n",
       "    </tr>\n",
       "    <tr>\n",
       "      <th>81</th>\n",
       "      <td>23.299999</td>\n",
       "      <td>33.000000</td>\n",
       "      <td>280.0512</td>\n",
       "      <td>710</td>\n",
       "      <td>3:49:55 PM</td>\n",
       "      <td>26.1</td>\n",
       "      <td>52</td>\n",
       "    </tr>\n",
       "    <tr>\n",
       "      <th>82</th>\n",
       "      <td>23.299999</td>\n",
       "      <td>33.000000</td>\n",
       "      <td>297.8400</td>\n",
       "      <td>710</td>\n",
       "      <td>3:54:58 PM</td>\n",
       "      <td>26.7</td>\n",
       "      <td>48</td>\n",
       "    </tr>\n",
       "    <tr>\n",
       "      <th>83</th>\n",
       "      <td>23.400000</td>\n",
       "      <td>33.099998</td>\n",
       "      <td>218.1984</td>\n",
       "      <td>706</td>\n",
       "      <td>4:00:00 PM</td>\n",
       "      <td>26.7</td>\n",
       "      <td>48</td>\n",
       "    </tr>\n",
       "    <tr>\n",
       "      <th>84</th>\n",
       "      <td>23.400000</td>\n",
       "      <td>33.099998</td>\n",
       "      <td>258.1824</td>\n",
       "      <td>698</td>\n",
       "      <td>4:05:02 PM</td>\n",
       "      <td>26.7</td>\n",
       "      <td>48</td>\n",
       "    </tr>\n",
       "    <tr>\n",
       "      <th>85</th>\n",
       "      <td>23.400000</td>\n",
       "      <td>32.900002</td>\n",
       "      <td>262.2624</td>\n",
       "      <td>694</td>\n",
       "      <td>4:10:04 PM</td>\n",
       "      <td>26.7</td>\n",
       "      <td>48</td>\n",
       "    </tr>\n",
       "    <tr>\n",
       "      <th>86</th>\n",
       "      <td>23.400000</td>\n",
       "      <td>32.599998</td>\n",
       "      <td>337.8240</td>\n",
       "      <td>687</td>\n",
       "      <td>4:15:06 PM</td>\n",
       "      <td>26.7</td>\n",
       "      <td>48</td>\n",
       "    </tr>\n",
       "    <tr>\n",
       "      <th>87</th>\n",
       "      <td>23.299999</td>\n",
       "      <td>32.799999</td>\n",
       "      <td>365.2416</td>\n",
       "      <td>682</td>\n",
       "      <td>4:20:09 PM</td>\n",
       "      <td>26.7</td>\n",
       "      <td>48</td>\n",
       "    </tr>\n",
       "    <tr>\n",
       "      <th>88</th>\n",
       "      <td>23.400000</td>\n",
       "      <td>32.900002</td>\n",
       "      <td>376.3392</td>\n",
       "      <td>679</td>\n",
       "      <td>4:25:11 PM</td>\n",
       "      <td>26.7</td>\n",
       "      <td>48</td>\n",
       "    </tr>\n",
       "    <tr>\n",
       "      <th>89</th>\n",
       "      <td>23.400000</td>\n",
       "      <td>32.700001</td>\n",
       "      <td>282.9888</td>\n",
       "      <td>680</td>\n",
       "      <td>4:30:13 PM</td>\n",
       "      <td>26.7</td>\n",
       "      <td>48</td>\n",
       "    </tr>\n",
       "    <tr>\n",
       "      <th>90</th>\n",
       "      <td>23.400000</td>\n",
       "      <td>33.099998</td>\n",
       "      <td>464.4672</td>\n",
       "      <td>660</td>\n",
       "      <td>4:35:15 PM</td>\n",
       "      <td>26.7</td>\n",
       "      <td>48</td>\n",
       "    </tr>\n",
       "    <tr>\n",
       "      <th>91</th>\n",
       "      <td>23.400000</td>\n",
       "      <td>32.299999</td>\n",
       "      <td>322.9728</td>\n",
       "      <td>656</td>\n",
       "      <td>4:40:18 PM</td>\n",
       "      <td>26.7</td>\n",
       "      <td>48</td>\n",
       "    </tr>\n",
       "    <tr>\n",
       "      <th>92</th>\n",
       "      <td>23.299999</td>\n",
       "      <td>32.500000</td>\n",
       "      <td>933.4304</td>\n",
       "      <td>658</td>\n",
       "      <td>4:45:20 PM</td>\n",
       "      <td>26.7</td>\n",
       "      <td>48</td>\n",
       "    </tr>\n",
       "    <tr>\n",
       "      <th>93</th>\n",
       "      <td>23.500000</td>\n",
       "      <td>32.200001</td>\n",
       "      <td>545.9040</td>\n",
       "      <td>660</td>\n",
       "      <td>4:50:22 PM</td>\n",
       "      <td>26.7</td>\n",
       "      <td>48</td>\n",
       "    </tr>\n",
       "    <tr>\n",
       "      <th>94</th>\n",
       "      <td>23.600000</td>\n",
       "      <td>31.900000</td>\n",
       "      <td>456.6336</td>\n",
       "      <td>666</td>\n",
       "      <td>4:55:24 PM</td>\n",
       "      <td>26.1</td>\n",
       "      <td>52</td>\n",
       "    </tr>\n",
       "    <tr>\n",
       "      <th>95</th>\n",
       "      <td>23.799999</td>\n",
       "      <td>31.500000</td>\n",
       "      <td>687.7248</td>\n",
       "      <td>661</td>\n",
       "      <td>5:00:27 PM</td>\n",
       "      <td>26.1</td>\n",
       "      <td>52</td>\n",
       "    </tr>\n",
       "    <tr>\n",
       "      <th>96</th>\n",
       "      <td>23.900000</td>\n",
       "      <td>31.400000</td>\n",
       "      <td>119.6256</td>\n",
       "      <td>660</td>\n",
       "      <td>5:05:29 PM</td>\n",
       "      <td>26.1</td>\n",
       "      <td>52</td>\n",
       "    </tr>\n",
       "    <tr>\n",
       "      <th>97</th>\n",
       "      <td>23.799999</td>\n",
       "      <td>31.600000</td>\n",
       "      <td>82.5792</td>\n",
       "      <td>657</td>\n",
       "      <td>5:10:31 PM</td>\n",
       "      <td>26.1</td>\n",
       "      <td>52</td>\n",
       "    </tr>\n",
       "    <tr>\n",
       "      <th>98</th>\n",
       "      <td>23.799999</td>\n",
       "      <td>31.600000</td>\n",
       "      <td>101.8368</td>\n",
       "      <td>655</td>\n",
       "      <td>5:15:33 PM</td>\n",
       "      <td>26.1</td>\n",
       "      <td>52</td>\n",
       "    </tr>\n",
       "    <tr>\n",
       "      <th>99</th>\n",
       "      <td>23.700001</td>\n",
       "      <td>31.500000</td>\n",
       "      <td>213.3024</td>\n",
       "      <td>641</td>\n",
       "      <td>5:20:35 PM</td>\n",
       "      <td>26.1</td>\n",
       "      <td>52</td>\n",
       "    </tr>\n",
       "    <tr>\n",
       "      <th>100</th>\n",
       "      <td>23.600000</td>\n",
       "      <td>31.600000</td>\n",
       "      <td>184.7424</td>\n",
       "      <td>633</td>\n",
       "      <td>5:25:38 PM</td>\n",
       "      <td>26.1</td>\n",
       "      <td>52</td>\n",
       "    </tr>\n",
       "    <tr>\n",
       "      <th>101</th>\n",
       "      <td>23.700001</td>\n",
       "      <td>31.500000</td>\n",
       "      <td>37.0464</td>\n",
       "      <td>626</td>\n",
       "      <td>5:30:40 PM</td>\n",
       "      <td>26.1</td>\n",
       "      <td>52</td>\n",
       "    </tr>\n",
       "    <tr>\n",
       "      <th>102</th>\n",
       "      <td>23.700001</td>\n",
       "      <td>31.400000</td>\n",
       "      <td>25.9488</td>\n",
       "      <td>621</td>\n",
       "      <td>5:35:42 PM</td>\n",
       "      <td>26.1</td>\n",
       "      <td>52</td>\n",
       "    </tr>\n",
       "    <tr>\n",
       "      <th>103</th>\n",
       "      <td>23.700001</td>\n",
       "      <td>31.400000</td>\n",
       "      <td>23.3376</td>\n",
       "      <td>621</td>\n",
       "      <td>5:40:44 PM</td>\n",
       "      <td>26.1</td>\n",
       "      <td>52</td>\n",
       "    </tr>\n",
       "    <tr>\n",
       "      <th>104</th>\n",
       "      <td>23.600000</td>\n",
       "      <td>31.400000</td>\n",
       "      <td>86.3328</td>\n",
       "      <td>602</td>\n",
       "      <td>5:45:47 PM</td>\n",
       "      <td>25.0</td>\n",
       "      <td>56</td>\n",
       "    </tr>\n",
       "  </tbody>\n",
       "</table>\n",
       "<p>105 rows × 7 columns</p>\n",
       "</div>"
      ],
      "text/plain": [
       "     Temperature  Relative_Humidity  Illumination  CO2    Timestamp  out_t  \\\n",
       "0      21.799999          32.599998       42.5952  496   9:01:45 AM   16.7   \n",
       "1      21.799999          32.700001       56.3040  497   9:06:47 AM   16.7   \n",
       "2      21.799999          32.400002       56.3040  500   9:11:50 AM   16.7   \n",
       "3      21.799999          32.599998       74.0928  535   9:16:52 AM   16.7   \n",
       "4      21.900000          33.200001       79.6416  545   9:21:54 AM   16.7   \n",
       "5      22.000000          33.099998       64.4640  559   9:26:56 AM   16.7   \n",
       "6      22.100000          35.900002       91.8816  578   9:31:58 AM   16.7   \n",
       "7      22.100000          33.799999       91.8816  564   9:37:01 AM   16.7   \n",
       "8      22.000000          33.200001       78.1728  557   9:42:03 AM   16.7   \n",
       "9      22.100000          33.299999       79.6416  553   9:47:05 AM   16.7   \n",
       "10     22.000000          33.299999      101.5104  552   9:52:07 AM   16.7   \n",
       "11     21.900000          33.299999      111.1392  551   9:57:09 AM   20.0   \n",
       "12     21.799999          33.700001       98.8992  570  10:02:12 AM   20.0   \n",
       "13     21.900000          33.799999       91.8816  564  10:07:14 AM   20.0   \n",
       "14     21.799999          34.000000      101.5104  560  10:12:16 AM   20.0   \n",
       "15     21.799999          34.200001      116.6880  559  10:17:18 AM   20.0   \n",
       "16     21.700001          34.299999      107.0592  559  10:22:21 AM   20.0   \n",
       "17     21.700001          34.500000      116.6880  559  10:27:23 AM   20.0   \n",
       "18     21.700001          34.599998      135.9456  558  10:32:25 AM   20.0   \n",
       "19     21.700001          34.799999      112.6080  561  10:37:27 AM   20.0   \n",
       "20     21.700001          34.900002      101.5104  565  10:42:29 AM   20.0   \n",
       "21     21.600000          35.200001      104.4480  570  10:47:32 AM   20.0   \n",
       "22     21.600000          35.500000      114.0768  580  10:52:34 AM   20.0   \n",
       "23     21.500000          35.599998      122.2368  587  10:57:36 AM   21.7   \n",
       "24     21.600000          35.900002      120.7680  591  11:02:38 AM   21.7   \n",
       "25     21.500000          36.099998      118.1568  593  11:07:41 AM   21.7   \n",
       "26     21.500000          36.299999      108.5280  597  11:12:43 AM   21.7   \n",
       "27     21.500000          36.500000      126.3168  600  11:17:45 AM   21.7   \n",
       "28     21.500000          36.799999      172.9920  603  11:22:47 AM   21.7   \n",
       "29     21.500000          37.000000      147.0432  612  11:27:49 AM   21.7   \n",
       "..           ...                ...           ...  ...          ...    ...   \n",
       "75     23.200001          32.900002      171.5232  736   3:19:42 PM   26.1   \n",
       "76     23.200001          32.900002      237.4560  730   3:24:44 PM   26.1   \n",
       "77     23.200001          32.900002      256.7136  727   3:29:46 PM   26.1   \n",
       "78     23.200001          32.900002      190.7808  723   3:34:49 PM   26.1   \n",
       "79     23.299999          33.000000      152.2656  715   3:39:51 PM   26.1   \n",
       "80     23.299999          33.000000      219.6672  713   3:44:53 PM   26.1   \n",
       "81     23.299999          33.000000      280.0512  710   3:49:55 PM   26.1   \n",
       "82     23.299999          33.000000      297.8400  710   3:54:58 PM   26.7   \n",
       "83     23.400000          33.099998      218.1984  706   4:00:00 PM   26.7   \n",
       "84     23.400000          33.099998      258.1824  698   4:05:02 PM   26.7   \n",
       "85     23.400000          32.900002      262.2624  694   4:10:04 PM   26.7   \n",
       "86     23.400000          32.599998      337.8240  687   4:15:06 PM   26.7   \n",
       "87     23.299999          32.799999      365.2416  682   4:20:09 PM   26.7   \n",
       "88     23.400000          32.900002      376.3392  679   4:25:11 PM   26.7   \n",
       "89     23.400000          32.700001      282.9888  680   4:30:13 PM   26.7   \n",
       "90     23.400000          33.099998      464.4672  660   4:35:15 PM   26.7   \n",
       "91     23.400000          32.299999      322.9728  656   4:40:18 PM   26.7   \n",
       "92     23.299999          32.500000      933.4304  658   4:45:20 PM   26.7   \n",
       "93     23.500000          32.200001      545.9040  660   4:50:22 PM   26.7   \n",
       "94     23.600000          31.900000      456.6336  666   4:55:24 PM   26.1   \n",
       "95     23.799999          31.500000      687.7248  661   5:00:27 PM   26.1   \n",
       "96     23.900000          31.400000      119.6256  660   5:05:29 PM   26.1   \n",
       "97     23.799999          31.600000       82.5792  657   5:10:31 PM   26.1   \n",
       "98     23.799999          31.600000      101.8368  655   5:15:33 PM   26.1   \n",
       "99     23.700001          31.500000      213.3024  641   5:20:35 PM   26.1   \n",
       "100    23.600000          31.600000      184.7424  633   5:25:38 PM   26.1   \n",
       "101    23.700001          31.500000       37.0464  626   5:30:40 PM   26.1   \n",
       "102    23.700001          31.400000       25.9488  621   5:35:42 PM   26.1   \n",
       "103    23.700001          31.400000       23.3376  621   5:40:44 PM   26.1   \n",
       "104    23.600000          31.400000       86.3328  602   5:45:47 PM   25.0   \n",
       "\n",
       "     out_h  \n",
       "0       90  \n",
       "1       90  \n",
       "2       90  \n",
       "3       90  \n",
       "4       90  \n",
       "5       90  \n",
       "6       90  \n",
       "7       90  \n",
       "8       90  \n",
       "9       90  \n",
       "10      90  \n",
       "11      78  \n",
       "12      78  \n",
       "13      78  \n",
       "14      78  \n",
       "15      78  \n",
       "16      78  \n",
       "17      78  \n",
       "18      78  \n",
       "19      78  \n",
       "20      78  \n",
       "21      78  \n",
       "22      78  \n",
       "23      70  \n",
       "24      70  \n",
       "25      70  \n",
       "26      70  \n",
       "27      70  \n",
       "28      70  \n",
       "29      70  \n",
       "..     ...  \n",
       "75      52  \n",
       "76      52  \n",
       "77      52  \n",
       "78      52  \n",
       "79      52  \n",
       "80      52  \n",
       "81      52  \n",
       "82      48  \n",
       "83      48  \n",
       "84      48  \n",
       "85      48  \n",
       "86      48  \n",
       "87      48  \n",
       "88      48  \n",
       "89      48  \n",
       "90      48  \n",
       "91      48  \n",
       "92      48  \n",
       "93      48  \n",
       "94      52  \n",
       "95      52  \n",
       "96      52  \n",
       "97      52  \n",
       "98      52  \n",
       "99      52  \n",
       "100     52  \n",
       "101     52  \n",
       "102     52  \n",
       "103     52  \n",
       "104     56  \n",
       "\n",
       "[105 rows x 7 columns]"
      ]
     },
     "execution_count": 95,
     "metadata": {},
     "output_type": "execute_result"
    }
   ],
   "source": [
    "df_1"
   ]
  },
  {
   "cell_type": "code",
   "execution_count": 80,
   "metadata": {
    "collapsed": true
   },
   "outputs": [],
   "source": [
    "import matplotlib.pyplot as plt\n",
    "import pylab "
   ]
  },
  {
   "cell_type": "code",
   "execution_count": 81,
   "metadata": {},
   "outputs": [
    {
     "data": {
      "image/png": "[encoded data removed]",
      "text/plain": [
       "<Figure size 432x432 with 4 Axes>"
      ]
     },
     "metadata": {},
     "output_type": "display_data"
    }
   ],
   "source": [
    "df_1.plot(subplots=True, figsize=(6, 6)); plt.legend(loc='best')\n",
    "plt.show()"
   ]
  },
  {
   "cell_type": "code",
   "execution_count": 82,
   "metadata": {},
   "outputs": [
    {
     "data": {
      "image/png": "[encoded data removed]",
      "text/plain": [
       "<Figure size 432x288 with 1 Axes>"
      ]
     },
     "metadata": {},
     "output_type": "display_data"
    }
   ],
   "source": [
    "df_1.plot();\n",
    "plt.show()"
   ]
  },
  {
   "cell_type": "code",
   "execution_count": 96,
   "metadata": {},
   "outputs": [
    {
     "data": {
      "image/png": "[encoded data removed]",
      "text/plain": [
       "<Figure size 432x288 with 1 Axes>"
      ]
     },
     "metadata": {},
     "output_type": "display_data"
    }
   ],
   "source": [
    "#fig, ax1 = plt.subplots(1,1)\n",
    "x1 = [0,12,24,36,48,60,72,84,96,108]\n",
    "labels = ['9:00 AM','10:00 AM','11:00 AM','12:00 PM','1:00 PM','2:00 PM','3:00 PM','4:00 PM','5:00 PM','6:00 PM']\n",
    "\n",
    "#plt.subplot(2,1,1)\n",
    "#df_1.Illumination.plot(kind='bar') # adjust chart type\n",
    "df_1.Illumination.plot(color=\"orange\")\n",
    "plt.legend(loc='best')\n",
    "plt.xlabel('Hour of Day')\n",
    "plt.ylabel('Illumination(lux)')\n",
    "#ax1.set_xticks(x1)\n",
    "#ax1.set_xticklabels(labels, minor=False, rotation=45)\n",
    "plt.xticks(x1, labels, rotation=45)\n",
    "plt.show()"
   ]
  },
  {
   "cell_type": "code",
   "execution_count": 103,
   "metadata": {},
   "outputs": [],
   "source": [
    "df_2 = pd.read_csv('Ries/behavior-2-28.csv')"
   ]
  },
  {
   "cell_type": "code",
   "execution_count": 104,
   "metadata": {},
   "outputs": [
    {
     "data": {
      "text/html": [
       "<div>\n",
       "<style scoped>\n",
       "    .dataframe tbody tr th:only-of-type {\n",
       "        vertical-align: middle;\n",
       "    }\n",
       "\n",
       "    .dataframe tbody tr th {\n",
       "        vertical-align: top;\n",
       "    }\n",
       "\n",
       "    .dataframe thead th {\n",
       "        text-align: right;\n",
       "    }\n",
       "</style>\n",
       "<table border=\"1\" class=\"dataframe\">\n",
       "  <thead>\n",
       "    <tr style=\"text-align: right;\">\n",
       "      <th></th>\n",
       "      <th>Time</th>\n",
       "      <th>Door</th>\n",
       "      <th>Window</th>\n",
       "      <th>Blinds</th>\n",
       "      <th>Door_sim</th>\n",
       "      <th>Window_sim</th>\n",
       "      <th>Blinds_sim</th>\n",
       "    </tr>\n",
       "  </thead>\n",
       "  <tbody>\n",
       "    <tr>\n",
       "      <th>0</th>\n",
       "      <td>9:00 - 9:15 AM</td>\n",
       "      <td>0</td>\n",
       "      <td>0</td>\n",
       "      <td>1</td>\n",
       "      <td>0.0</td>\n",
       "      <td>0.0</td>\n",
       "      <td>1.0</td>\n",
       "    </tr>\n",
       "    <tr>\n",
       "      <th>1</th>\n",
       "      <td>9:15 -9:30 AM</td>\n",
       "      <td>0</td>\n",
       "      <td>0</td>\n",
       "      <td>1</td>\n",
       "      <td>0.0</td>\n",
       "      <td>0.0</td>\n",
       "      <td>1.0</td>\n",
       "    </tr>\n",
       "    <tr>\n",
       "      <th>2</th>\n",
       "      <td>9:30 - 9:45 AM</td>\n",
       "      <td>0</td>\n",
       "      <td>0</td>\n",
       "      <td>1</td>\n",
       "      <td>0.0</td>\n",
       "      <td>0.0</td>\n",
       "      <td>1.0</td>\n",
       "    </tr>\n",
       "    <tr>\n",
       "      <th>3</th>\n",
       "      <td>9:45 -10:00 AM</td>\n",
       "      <td>0</td>\n",
       "      <td>0</td>\n",
       "      <td>1</td>\n",
       "      <td>0.0</td>\n",
       "      <td>0.0</td>\n",
       "      <td>1.0</td>\n",
       "    </tr>\n",
       "    <tr>\n",
       "      <th>4</th>\n",
       "      <td>10:00 - 10:15 AM</td>\n",
       "      <td>0</td>\n",
       "      <td>0</td>\n",
       "      <td>1</td>\n",
       "      <td>0.0</td>\n",
       "      <td>0.0</td>\n",
       "      <td>1.0</td>\n",
       "    </tr>\n",
       "    <tr>\n",
       "      <th>5</th>\n",
       "      <td>10:15 -10:30 AM</td>\n",
       "      <td>0</td>\n",
       "      <td>0</td>\n",
       "      <td>1</td>\n",
       "      <td>0.0</td>\n",
       "      <td>0.0</td>\n",
       "      <td>1.0</td>\n",
       "    </tr>\n",
       "    <tr>\n",
       "      <th>6</th>\n",
       "      <td>10:30 - 10:45 AM</td>\n",
       "      <td>0</td>\n",
       "      <td>0</td>\n",
       "      <td>1</td>\n",
       "      <td>0.0</td>\n",
       "      <td>0.0</td>\n",
       "      <td>1.0</td>\n",
       "    </tr>\n",
       "    <tr>\n",
       "      <th>7</th>\n",
       "      <td>10:45 -11:00 AM</td>\n",
       "      <td>0</td>\n",
       "      <td>0</td>\n",
       "      <td>1</td>\n",
       "      <td>0.0</td>\n",
       "      <td>0.0</td>\n",
       "      <td>1.0</td>\n",
       "    </tr>\n",
       "    <tr>\n",
       "      <th>8</th>\n",
       "      <td>11:00 - 11:15 AM</td>\n",
       "      <td>0</td>\n",
       "      <td>0</td>\n",
       "      <td>1</td>\n",
       "      <td>0.0</td>\n",
       "      <td>0.0</td>\n",
       "      <td>1.0</td>\n",
       "    </tr>\n",
       "    <tr>\n",
       "      <th>9</th>\n",
       "      <td>11:15 -11:30 AM</td>\n",
       "      <td>0</td>\n",
       "      <td>0</td>\n",
       "      <td>1</td>\n",
       "      <td>0.0</td>\n",
       "      <td>0.0</td>\n",
       "      <td>1.0</td>\n",
       "    </tr>\n",
       "    <tr>\n",
       "      <th>10</th>\n",
       "      <td>11:30 - 11:45 AM</td>\n",
       "      <td>1</td>\n",
       "      <td>0</td>\n",
       "      <td>1</td>\n",
       "      <td>1.0</td>\n",
       "      <td>0.0</td>\n",
       "      <td>1.0</td>\n",
       "    </tr>\n",
       "    <tr>\n",
       "      <th>11</th>\n",
       "      <td>11:45 -12:00 PM</td>\n",
       "      <td>0</td>\n",
       "      <td>0</td>\n",
       "      <td>1</td>\n",
       "      <td>NaN</td>\n",
       "      <td>NaN</td>\n",
       "      <td>NaN</td>\n",
       "    </tr>\n",
       "    <tr>\n",
       "      <th>12</th>\n",
       "      <td>12:00 - 12:15 PM</td>\n",
       "      <td>1</td>\n",
       "      <td>0</td>\n",
       "      <td>1</td>\n",
       "      <td>NaN</td>\n",
       "      <td>NaN</td>\n",
       "      <td>NaN</td>\n",
       "    </tr>\n",
       "    <tr>\n",
       "      <th>13</th>\n",
       "      <td>12:15 - 12:30 PM</td>\n",
       "      <td>0</td>\n",
       "      <td>0</td>\n",
       "      <td>1</td>\n",
       "      <td>NaN</td>\n",
       "      <td>NaN</td>\n",
       "      <td>NaN</td>\n",
       "    </tr>\n",
       "    <tr>\n",
       "      <th>14</th>\n",
       "      <td>12:30 - 12:45 PM</td>\n",
       "      <td>0</td>\n",
       "      <td>0</td>\n",
       "      <td>1</td>\n",
       "      <td>NaN</td>\n",
       "      <td>NaN</td>\n",
       "      <td>NaN</td>\n",
       "    </tr>\n",
       "    <tr>\n",
       "      <th>15</th>\n",
       "      <td>12:45 -1:00 PM</td>\n",
       "      <td>0</td>\n",
       "      <td>0</td>\n",
       "      <td>1</td>\n",
       "      <td>0.0</td>\n",
       "      <td>0.0</td>\n",
       "      <td>1.0</td>\n",
       "    </tr>\n",
       "    <tr>\n",
       "      <th>16</th>\n",
       "      <td>1:00 - 1:15 PM</td>\n",
       "      <td>0</td>\n",
       "      <td>0</td>\n",
       "      <td>1</td>\n",
       "      <td>1.0</td>\n",
       "      <td>0.0</td>\n",
       "      <td>1.0</td>\n",
       "    </tr>\n",
       "    <tr>\n",
       "      <th>17</th>\n",
       "      <td>1:15 - 1:30 PM</td>\n",
       "      <td>0</td>\n",
       "      <td>0</td>\n",
       "      <td>1</td>\n",
       "      <td>1.0</td>\n",
       "      <td>0.0</td>\n",
       "      <td>1.0</td>\n",
       "    </tr>\n",
       "    <tr>\n",
       "      <th>18</th>\n",
       "      <td>1:30 - 1:45 PM</td>\n",
       "      <td>0</td>\n",
       "      <td>0</td>\n",
       "      <td>1</td>\n",
       "      <td>1.0</td>\n",
       "      <td>1.0</td>\n",
       "      <td>1.0</td>\n",
       "    </tr>\n",
       "    <tr>\n",
       "      <th>19</th>\n",
       "      <td>1:45 -2:00 PM</td>\n",
       "      <td>0</td>\n",
       "      <td>0</td>\n",
       "      <td>1</td>\n",
       "      <td>1.0</td>\n",
       "      <td>1.0</td>\n",
       "      <td>1.0</td>\n",
       "    </tr>\n",
       "    <tr>\n",
       "      <th>20</th>\n",
       "      <td>2:00 - 2:15 PM</td>\n",
       "      <td>0</td>\n",
       "      <td>0</td>\n",
       "      <td>1</td>\n",
       "      <td>1.0</td>\n",
       "      <td>1.0</td>\n",
       "      <td>1.0</td>\n",
       "    </tr>\n",
       "    <tr>\n",
       "      <th>21</th>\n",
       "      <td>2:15 - 2:30 PM</td>\n",
       "      <td>0</td>\n",
       "      <td>0</td>\n",
       "      <td>1</td>\n",
       "      <td>1.0</td>\n",
       "      <td>1.0</td>\n",
       "      <td>1.0</td>\n",
       "    </tr>\n",
       "    <tr>\n",
       "      <th>22</th>\n",
       "      <td>2:30 - 2:45 PM</td>\n",
       "      <td>0</td>\n",
       "      <td>0</td>\n",
       "      <td>1</td>\n",
       "      <td>1.0</td>\n",
       "      <td>0.0</td>\n",
       "      <td>1.0</td>\n",
       "    </tr>\n",
       "    <tr>\n",
       "      <th>23</th>\n",
       "      <td>2:45 -3:00 PM</td>\n",
       "      <td>0</td>\n",
       "      <td>0</td>\n",
       "      <td>1</td>\n",
       "      <td>1.0</td>\n",
       "      <td>0.0</td>\n",
       "      <td>1.0</td>\n",
       "    </tr>\n",
       "    <tr>\n",
       "      <th>24</th>\n",
       "      <td>3:00 - 3:15 PM</td>\n",
       "      <td>0</td>\n",
       "      <td>0</td>\n",
       "      <td>1</td>\n",
       "      <td>1.0</td>\n",
       "      <td>0.0</td>\n",
       "      <td>1.0</td>\n",
       "    </tr>\n",
       "    <tr>\n",
       "      <th>25</th>\n",
       "      <td>3:15 - 3:30 PM</td>\n",
       "      <td>0</td>\n",
       "      <td>0</td>\n",
       "      <td>1</td>\n",
       "      <td>1.0</td>\n",
       "      <td>0.0</td>\n",
       "      <td>1.0</td>\n",
       "    </tr>\n",
       "    <tr>\n",
       "      <th>26</th>\n",
       "      <td>3:30 - 3:45 PM</td>\n",
       "      <td>0</td>\n",
       "      <td>0</td>\n",
       "      <td>1</td>\n",
       "      <td>1.0</td>\n",
       "      <td>0.0</td>\n",
       "      <td>1.0</td>\n",
       "    </tr>\n",
       "    <tr>\n",
       "      <th>27</th>\n",
       "      <td>3:45 -4:00 PM</td>\n",
       "      <td>0</td>\n",
       "      <td>0</td>\n",
       "      <td>1</td>\n",
       "      <td>1.0</td>\n",
       "      <td>0.0</td>\n",
       "      <td>1.0</td>\n",
       "    </tr>\n",
       "    <tr>\n",
       "      <th>28</th>\n",
       "      <td>4:00 - 4:15 PM</td>\n",
       "      <td>0</td>\n",
       "      <td>0</td>\n",
       "      <td>1</td>\n",
       "      <td>1.0</td>\n",
       "      <td>0.0</td>\n",
       "      <td>1.0</td>\n",
       "    </tr>\n",
       "    <tr>\n",
       "      <th>29</th>\n",
       "      <td>4:15 - 4:30 PM</td>\n",
       "      <td>0</td>\n",
       "      <td>0</td>\n",
       "      <td>1</td>\n",
       "      <td>1.0</td>\n",
       "      <td>0.0</td>\n",
       "      <td>0.0</td>\n",
       "    </tr>\n",
       "    <tr>\n",
       "      <th>30</th>\n",
       "      <td>4:30 - 4:45 PM</td>\n",
       "      <td>1</td>\n",
       "      <td>0</td>\n",
       "      <td>1</td>\n",
       "      <td>1.0</td>\n",
       "      <td>0.0</td>\n",
       "      <td>0.0</td>\n",
       "    </tr>\n",
       "    <tr>\n",
       "      <th>31</th>\n",
       "      <td>4:45 -5:00 PM</td>\n",
       "      <td>0</td>\n",
       "      <td>0</td>\n",
       "      <td>1</td>\n",
       "      <td>1.0</td>\n",
       "      <td>0.0</td>\n",
       "      <td>0.0</td>\n",
       "    </tr>\n",
       "    <tr>\n",
       "      <th>32</th>\n",
       "      <td>5:00 -5:15 PM</td>\n",
       "      <td>0</td>\n",
       "      <td>0</td>\n",
       "      <td>0</td>\n",
       "      <td>1.0</td>\n",
       "      <td>0.0</td>\n",
       "      <td>0.0</td>\n",
       "    </tr>\n",
       "    <tr>\n",
       "      <th>33</th>\n",
       "      <td>5:15 -5:30 PM</td>\n",
       "      <td>0</td>\n",
       "      <td>0</td>\n",
       "      <td>0</td>\n",
       "      <td>1.0</td>\n",
       "      <td>0.0</td>\n",
       "      <td>0.0</td>\n",
       "    </tr>\n",
       "    <tr>\n",
       "      <th>34</th>\n",
       "      <td>5:30 -5:45 PM</td>\n",
       "      <td>0</td>\n",
       "      <td>0</td>\n",
       "      <td>1</td>\n",
       "      <td>1.0</td>\n",
       "      <td>0.0</td>\n",
       "      <td>1.0</td>\n",
       "    </tr>\n",
       "  </tbody>\n",
       "</table>\n",
       "</div>"
      ],
      "text/plain": [
       "                Time  Door  Window  Blinds  Door_sim  Window_sim  Blinds_sim\n",
       "0     9:00 - 9:15 AM     0       0       1       0.0         0.0         1.0\n",
       "1      9:15 -9:30 AM     0       0       1       0.0         0.0         1.0\n",
       "2     9:30 - 9:45 AM     0       0       1       0.0         0.0         1.0\n",
       "3     9:45 -10:00 AM     0       0       1       0.0         0.0         1.0\n",
       "4   10:00 - 10:15 AM     0       0       1       0.0         0.0         1.0\n",
       "5    10:15 -10:30 AM     0       0       1       0.0         0.0         1.0\n",
       "6   10:30 - 10:45 AM     0       0       1       0.0         0.0         1.0\n",
       "7    10:45 -11:00 AM     0       0       1       0.0         0.0         1.0\n",
       "8   11:00 - 11:15 AM     0       0       1       0.0         0.0         1.0\n",
       "9    11:15 -11:30 AM     0       0       1       0.0         0.0         1.0\n",
       "10  11:30 - 11:45 AM     1       0       1       1.0         0.0         1.0\n",
       "11   11:45 -12:00 PM     0       0       1       NaN         NaN         NaN\n",
       "12  12:00 - 12:15 PM     1       0       1       NaN         NaN         NaN\n",
       "13  12:15 - 12:30 PM     0       0       1       NaN         NaN         NaN\n",
       "14  12:30 - 12:45 PM     0       0       1       NaN         NaN         NaN\n",
       "15    12:45 -1:00 PM     0       0       1       0.0         0.0         1.0\n",
       "16    1:00 - 1:15 PM     0       0       1       1.0         0.0         1.0\n",
       "17    1:15 - 1:30 PM     0       0       1       1.0         0.0         1.0\n",
       "18    1:30 - 1:45 PM     0       0       1       1.0         1.0         1.0\n",
       "19     1:45 -2:00 PM     0       0       1       1.0         1.0         1.0\n",
       "20    2:00 - 2:15 PM     0       0       1       1.0         1.0         1.0\n",
       "21    2:15 - 2:30 PM     0       0       1       1.0         1.0         1.0\n",
       "22    2:30 - 2:45 PM     0       0       1       1.0         0.0         1.0\n",
       "23     2:45 -3:00 PM     0       0       1       1.0         0.0         1.0\n",
       "24    3:00 - 3:15 PM     0       0       1       1.0         0.0         1.0\n",
       "25    3:15 - 3:30 PM     0       0       1       1.0         0.0         1.0\n",
       "26    3:30 - 3:45 PM     0       0       1       1.0         0.0         1.0\n",
       "27     3:45 -4:00 PM     0       0       1       1.0         0.0         1.0\n",
       "28    4:00 - 4:15 PM     0       0       1       1.0         0.0         1.0\n",
       "29    4:15 - 4:30 PM     0       0       1       1.0         0.0         0.0\n",
       "30    4:30 - 4:45 PM     1       0       1       1.0         0.0         0.0\n",
       "31     4:45 -5:00 PM     0       0       1       1.0         0.0         0.0\n",
       "32     5:00 -5:15 PM     0       0       0       1.0         0.0         0.0\n",
       "33     5:15 -5:30 PM     0       0       0       1.0         0.0         0.0\n",
       "34     5:30 -5:45 PM     0       0       1       1.0         0.0         1.0"
      ]
     },
     "execution_count": 104,
     "metadata": {},
     "output_type": "execute_result"
    }
   ],
   "source": [
    "df_2"
   ]
  },
  {
   "cell_type": "code",
   "execution_count": 105,
   "metadata": {},
   "outputs": [
    {
     "data": {
      "image/png": "[encoded data removed]",
      "text/plain": [
       "<Figure size 432x288 with 1 Axes>"
      ]
     },
     "metadata": {},
     "output_type": "display_data"
    }
   ],
   "source": [
    "plt.subplot(2,1,1)\n",
    "df_2.Blinds.plot(color = 'green')\n",
    "#plt.xlabel('Hour of Day')\n",
    "plt.ylabel('Actual Status')\n",
    "plt.xticks([])\n",
    "plt.yticks([0,1])  \n",
    "plt.legend(loc='best')\n",
    "plt.show()"
   ]
  },
  {
   "cell_type": "code",
   "execution_count": 106,
   "metadata": {},
   "outputs": [
    {
     "data": {
      "image/png": "[encoded data removed]",
      "text/plain": [
       "<Figure size 432x288 with 1 Axes>"
      ]
     },
     "metadata": {},
     "output_type": "display_data"
    }
   ],
   "source": [
    "plt.subplot(211)\n",
    "df_2.Blinds_sim.plot(color = \"red\")\n",
    "#plt.xlabel('Hour of Day')\n",
    "plt.ylabel('Simulated Status')\n",
    "plt.xticks([])\n",
    "plt.yticks([0,1])\n",
    "L=plt.legend()\n",
    "L.get_texts()[0].set_text('Blinds')\n",
    "plt.show()"
   ]
  },
  {
   "cell_type": "code",
   "execution_count": 60,
   "metadata": {},
   "outputs": [
    {
     "data": {
      "image/png": "[encoded data removed]",
      "text/plain": [
       "<Figure size 432x288 with 2 Axes>"
      ]
     },
     "metadata": {},
     "output_type": "display_data"
    }
   ],
   "source": [
    "\n",
    "labels = ['9:00 AM','10:00 AM','11:00 AM','12:00 PM','1:00 PM','2:00 PM','3:00 PM','4:00 PM','5:00 PM','6:00 PM']\n",
    "plt.xticks(x1, labels, rotation=45)\n",
    "#df_1.Illumination.plot(kind='bar') # adjust chart type\n",
    "T = df_1.Temperature.plot()\n",
    "plt.ylabel('Temperature(C)')\n",
    "CO2 = df_1.CO2.plot(secondary_y=True)\n",
    "T.legend()\n",
    "plt.legend(loc = 'best')\n",
    "plt.xticks(x1, labels, rotation=45)\n",
    "plt.xlabel('Hour of Day')\n",
    "x1 = [0,12,24,36,48,60,72,84,96,108]\n",
    "labels = ['9:00 AM','10:00 AM','11:00 AM','12:00 PM','1:00 PM','2:00 PM','3:00 PM','4:00 PM','5:00 PM','6:00 PM']\n",
    "plt.xticks(x1, labels, rotation=45)\n",
    "plt.xticks(rotation=45)\n",
    "\n",
    "#plt.margins(0.8)\n",
    "plt.show()"
   ]
  },
  {
   "cell_type": "code",
   "execution_count": 61,
   "metadata": {
    "collapsed": true
   },
   "outputs": [],
   "source": [
    "y1 = df_1.Temperature.tolist()\n",
    "y2 = df_1.CO2.tolist()\n",
    "x = df_1.Timestamp.tolist()"
   ]
  },
  {
   "cell_type": "code",
   "execution_count": 62,
   "metadata": {},
   "outputs": [
    {
     "name": "stderr",
     "output_type": "stream",
     "text": [
      "No handles with labels found to put in legend.\n"
     ]
    },
    {
     "data": {
      "image/png": "[encoded data removed]",
      "text/plain": [
       "<Figure size 432x288 with 2 Axes>"
      ]
     },
     "metadata": {},
     "output_type": "display_data"
    }
   ],
   "source": [
    "fig, ax1 = plt.subplots()\n",
    "labels = ['9:00 AM','10:00 AM','11:00 AM','12:00 PM','1:00 PM','2:00 PM','3:00 PM','4:00 PM','5:00 PM','6:00 PM']\n",
    "plt.xticks(x1, labels, rotation=45)\n",
    "ax2 = ax1.twinx()\n",
    "ax1.plot(x, y1)\n",
    "ax2.plot(x, y2, 'orange')\n",
    "\n",
    "ax1.set_xlabel('Hour of Day')\n",
    "ax1.set_ylabel('Temperature (C)')\n",
    "ax2.set_ylabel('CO2 Concentration (ppm)')\n",
    "ax1.legend(loc = 'best')\n",
    "x1 = [0,12,24,36,48,60,72,84,96,108]\n",
    "labels = ['9:00 AM','10:00 AM','11:00 AM','12:00 PM','1:00 PM','2:00 PM','3:00 PM','4:00 PM','5:00 PM','6:00 PM']\n",
    "plt.xticks(x1, labels, rotation=45)\n",
    "plt.xticks(rotation=45)\n",
    "ax1.legend(labels = ['Temperature', 'CO2'], loc = 'best')\n",
    "ax2.legend(labels = ['CO2', 'CO2'], loc = 'best')\n",
    "\n",
    "plt.show()"
   ]
  },
  {
   "cell_type": "code",
   "execution_count": 97,
   "metadata": {
    "collapsed": true
   },
   "outputs": [],
   "source": [
    "y1 = df_1.Temperature.tolist()\n",
    "y2 = df_1.Relative_Humidity.tolist()\n",
    "x = df_1.Timestamp.tolist()"
   ]
  },
  {
   "cell_type": "code",
   "execution_count": 98,
   "metadata": {},
   "outputs": [
    {
     "name": "stderr",
     "output_type": "stream",
     "text": [
      "No handles with labels found to put in legend.\n"
     ]
    },
    {
     "data": {
      "image/png": "[encoded data removed]",
      "text/plain": [
       "<Figure size 432x288 with 2 Axes>"
      ]
     },
     "metadata": {},
     "output_type": "display_data"
    }
   ],
   "source": [
    "fig, ax1 = plt.subplots()\n",
    "labels = ['9:00 AM','10:00 AM','11:00 AM','12:00 PM','1:00 PM','2:00 PM','3:00 PM','4:00 PM','5:00 PM','6:00 PM']\n",
    "plt.xticks(x1, labels, rotation=45)\n",
    "ax2 = ax1.twinx()\n",
    "ax1.plot(x, y1)\n",
    "ax2.plot(x, y2, 'orange')\n",
    "\n",
    "ax1.set_xlabel('Hour of Day')\n",
    "ax1.set_ylabel('Temperature (C)')\n",
    "ax2.set_ylabel('Relative Humidity (%)')\n",
    "ax1.legend(loc = 'best')\n",
    "x1 = [0,12,24,36,48,60,72,84,96,108]\n",
    "labels = ['9:00 AM','10:00 AM','11:00 AM','12:00 PM','1:00 PM','2:00 PM','3:00 PM','4:00 PM','5:00 PM','6:00 PM']\n",
    "plt.xticks(x1, labels, rotation=45)\n",
    "plt.xticks(rotation=45)\n",
    "ax1.legend(labels = ['Temperature', 'Humidity'], loc = 'best')\n",
    "ax2.legend(labels = ['Humidity', 'Humidity'], loc = 'best')\n",
    "\n",
    "plt.show() # 2-28 temp and humidity"
   ]
  },
  {
   "cell_type": "code",
   "execution_count": 99,
   "metadata": {},
   "outputs": [
    {
     "data": {
      "image/png": "[encoded data removed]",
      "text/plain": [
       "<Figure size 432x288 with 1 Axes>"
      ]
     },
     "metadata": {},
     "output_type": "display_data"
    }
   ],
   "source": [
    "#fig, ax1 = plt.subplots(1,1)\n",
    "plt.subplot(2,1,1)\n",
    "#x1 = [0,12,24,36,48,60,72,84,96,108]\n",
    "#labels = ['9:00 AM','10:00 AM','11:00 AM','12:00 PM','1:00 PM','2:00 PM','3:00 PM','4:00 PM','5:00 PM','6:00 PM']\n",
    "\n",
    "#plt.subplot(2,1,1)\n",
    "#df_1.Illumination.plot(kind='bar') # adjust chart type\n",
    "df_1.CO2.plot(color='grey')\n",
    "plt.legend(loc='best')\n",
    "plt.xlabel('Hour of Day')\n",
    "plt.xticks([], []) #remove x sticks\n",
    "plt.ylabel('CO2 (ppm)')\n",
    "#ax1.set_xticks(x1)\n",
    "#ax1.set_xticklabels(labels, minor=False, rotation=45)\n",
    "#plt.xticks(x1, labels, rotation=45)\n",
    "plt.show()   # 2-28 co2"
   ]
  },
  {
   "cell_type": "code",
   "execution_count": 100,
   "metadata": {},
   "outputs": [],
   "source": [
    "y1 = df_1.Temperature.tolist()\n",
    "y2 = df_1.Relative_Humidity.tolist()\n",
    "x = df_1.Timestamp.tolist()\n",
    "y3 = df_1.out_t.tolist()\n",
    "y4 = df_1.out_h.tolist()"
   ]
  },
  {
   "cell_type": "code",
   "execution_count": 101,
   "metadata": {},
   "outputs": [
    {
     "name": "stderr",
     "output_type": "stream",
     "text": [
      "No handles with labels found to put in legend.\n"
     ]
    },
    {
     "data": {
      "image/png": "[encoded data removed]",
      "text/plain": [
       "<Figure size 432x288 with 2 Axes>"
      ]
     },
     "metadata": {},
     "output_type": "display_data"
    }
   ],
   "source": [
    "fig, ax1 = plt.subplots()\n",
    "labels = ['9:00 AM','10:00 AM','11:00 AM','12:00 PM','1:00 PM','2:00 PM','3:00 PM','4:00 PM','5:00 PM','6:00 PM']\n",
    "plt.xticks(x1, labels, rotation=45)\n",
    "#ax2 = ax1.twinx()\n",
    "ax1.plot(x, y1)\n",
    "ax1.plot(x, y3, 'purple')\n",
    "\n",
    "ax2 = ax1.twinx()\n",
    "ax2.plot(x, y2, 'orange')\n",
    "ax2.plot(x, y4, 'lime')\n",
    "\n",
    "ax1.set_xlabel('Hour of Day')\n",
    "ax1.set_ylabel('Temperature (C)')\n",
    "ax2.set_ylabel('Humidity (%)')\n",
    "ax1.legend(loc = 'best')\n",
    "x1 = [0,12,24,36,48,60,72,84,96,108]\n",
    "labels = ['9:00 AM','10:00 AM','11:00 AM','12:00 PM','1:00 PM','2:00 PM','3:00 PM','4:00 PM','5:00 PM','6:00 PM']\n",
    "plt.xticks(x1, labels, rotation=45)\n",
    "plt.xticks(rotation=45)\n",
    "ax1.legend(labels = ['Indoor Temp','Outdoor Temp'], loc = 'lower left')\n",
    "ax2.legend(labels = ['Indoor Hum', 'Outdoor Hum'], loc = 'best')\n",
    "\n",
    "\n",
    "plt.show()"
   ]
  },
  {
   "cell_type": "code",
   "execution_count": 107,
   "metadata": {},
   "outputs": [
    {
     "data": {
      "image/png": "[encoded data removed]",
      "text/plain": [
       "<Figure size 432x288 with 1 Axes>"
      ]
     },
     "metadata": {},
     "output_type": "display_data"
    }
   ],
   "source": [
    "plt.subplot(2,1,1)\n",
    "df_2.Door.plot(color = 'green')\n",
    "#plt.xlabel('Hour of Day')\n",
    "plt.ylabel('Actual Status')\n",
    "plt.xticks([])\n",
    "plt.yticks([0,1])  \n",
    "plt.legend(loc='best')\n",
    "plt.show()"
   ]
  },
  {
   "cell_type": "code",
   "execution_count": 108,
   "metadata": {},
   "outputs": [
    {
     "data": {
      "image/png": "[encoded data removed]",
      "text/plain": [
       "<Figure size 432x288 with 1 Axes>"
      ]
     },
     "metadata": {},
     "output_type": "display_data"
    }
   ],
   "source": [
    "plt.subplot(211)\n",
    "df_2.Door_sim.plot(color = \"red\")\n",
    "#plt.xlabel('Hour of Day')\n",
    "plt.ylabel('Simulated Status')\n",
    "plt.xticks([])\n",
    "plt.yticks([0,1])\n",
    "L=plt.legend(loc='upper left')\n",
    "L.get_texts()[0].set_text('Door')\n",
    "plt.show()"
   ]
  },
  {
   "cell_type": "code",
   "execution_count": 109,
   "metadata": {},
   "outputs": [
    {
     "data": {
      "image/png": "[encoded data removed]",
      "text/plain": [
       "<Figure size 432x288 with 1 Axes>"
      ]
     },
     "metadata": {},
     "output_type": "display_data"
    }
   ],
   "source": [
    "plt.subplot(3,1,1)\n",
    "df_2.Window.plot(color = 'green')\n",
    "#plt.xlabel('Hour of Day')\n",
    "plt.ylabel('Actual Status',fontsize=8)\n",
    "plt.xticks([])\n",
    "plt.yticks([0,1])  \n",
    "plt.legend(loc='best')\n",
    "plt.show()"
   ]
  },
  {
   "cell_type": "code",
   "execution_count": 110,
   "metadata": {},
   "outputs": [
    {
     "data": {
      "image/png": "[encoded data removed]",
      "text/plain": [
       "<Figure size 432x288 with 1 Axes>"
      ]
     },
     "metadata": {},
     "output_type": "display_data"
    }
   ],
   "source": [
    "plt.subplot(311)\n",
    "ax=df_2.Window_sim.plot(color = \"red\")\n",
    "#plt.xlabel('Hour of Day')\n",
    "ax.yaxis.set_label_position(\"left\")\n",
    "plt.ylabel('Simulated Status',fontsize=8)\n",
    "\n",
    "plt.xticks([])\n",
    "plt.yticks([0,1])\n",
    "L=plt.legend()\n",
    "L.get_texts()[0].set_text('Window')\n",
    "plt.show()"
   ]
  },
  {
   "cell_type": "code",
   "execution_count": 168,
   "metadata": {
    "collapsed": true
   },
   "outputs": [],
   "source": [
    "df_3 = pd.read_csv('Ries/3-7.csv')"
   ]
  },
  {
   "cell_type": "code",
   "execution_count": 169,
   "metadata": {},
   "outputs": [
    {
     "data": {
      "image/png": "[encoded data removed]",
      "text/plain": [
       "<Figure size 432x432 with 6 Axes>"
      ]
     },
     "metadata": {},
     "output_type": "display_data"
    }
   ],
   "source": [
    "df_3.plot(subplots=True, figsize=(6, 6)); plt.legend(loc='best')\n",
    "plt.show()"
   ]
  },
  {
   "cell_type": "code",
   "execution_count": 171,
   "metadata": {},
   "outputs": [
    {
     "data": {
      "image/png": "[encoded data removed]",
      "text/plain": [
       "<Figure size 432x288 with 1 Axes>"
      ]
     },
     "metadata": {},
     "output_type": "display_data"
    }
   ],
   "source": [
    "#fig, ax1 = plt.subplots(1,1)\n",
    "plt.subplot(2,1,1)\n",
    "#x1 = [0,12,24,36,48,60,72,84,96,108]\n",
    "#labels = ['9:00 AM','10:00 AM','11:00 AM','12:00 PM','1:00 PM','2:00 PM','3:00 PM','4:00 PM','5:00 PM','6:00 PM']\n",
    "\n",
    "#plt.subplot(2,1,1)\n",
    "#df_1.Illumination.plot(kind='bar') # adjust chart type\n",
    "df_3.CO2.plot(color='grey')\n",
    "plt.legend(loc='best')\n",
    "plt.xlabel('Hour of Day')\n",
    "plt.xticks([], []) #remove x sticks\n",
    "plt.ylabel('CO2 (ppm)')\n",
    "#ax1.set_xticks(x1)\n",
    "#ax1.set_xticklabels(labels, minor=False, rotation=45)\n",
    "#plt.xticks(x1, labels, rotation=45)\n",
    "plt.show()"
   ]
  },
  {
   "cell_type": "code",
   "execution_count": 173,
   "metadata": {},
   "outputs": [
    {
     "data": {
      "image/png": "[encoded data removed]",
      "text/plain": [
       "<Figure size 432x288 with 1 Axes>"
      ]
     },
     "metadata": {},
     "output_type": "display_data"
    }
   ],
   "source": [
    "x1 = [0,12,24,36,48,60,72,84,96,108]\n",
    "labels = ['9:00 AM','10:00 AM','11:00 AM','12:00 PM','1:00 PM','2:00 PM','3:00 PM','4:00 PM','5:00 PM','6:00 PM']\n",
    "\n",
    "#plt.subplot(2,1,1)\n",
    "#df_1.Illumination.plot(kind='bar') # adjust chart type\n",
    "df_3.Illumination.plot(color=\"orange\")\n",
    "plt.legend(loc='best')\n",
    "plt.xlabel('Hour of Day')\n",
    "plt.ylabel('Illumination(lux)')\n",
    "#ax1.set_xticks(x1)\n",
    "#ax1.set_xticklabels(labels, minor=False, rotation=45)\n",
    "plt.xticks(x1, labels, rotation=45)\n",
    "plt.show()"
   ]
  },
  {
   "cell_type": "code",
   "execution_count": 174,
   "metadata": {
    "collapsed": true
   },
   "outputs": [],
   "source": [
    "y1 = df_3.Temperature.tolist()\n",
    "y2 = df_3.Relative_Humidity.tolist()\n",
    "x = df_3.Timestamp.tolist()"
   ]
  },
  {
   "cell_type": "code",
   "execution_count": 176,
   "metadata": {},
   "outputs": [
    {
     "name": "stderr",
     "output_type": "stream",
     "text": [
      "No handles with labels found to put in legend.\n"
     ]
    },
    {
     "data": {
      "image/png": "[encoded data removed]",
      "text/plain": [
       "<Figure size 432x288 with 2 Axes>"
      ]
     },
     "metadata": {},
     "output_type": "display_data"
    }
   ],
   "source": [
    "fig, ax1 = plt.subplots()\n",
    "labels = ['9:00 AM','10:00 AM','11:00 AM','12:00 PM','1:00 PM','2:00 PM','3:00 PM','4:00 PM','5:00 PM','6:00 PM']\n",
    "plt.xticks(x1, labels, rotation=45)\n",
    "ax2 = ax1.twinx()\n",
    "ax1.plot(x, y1)\n",
    "ax2.plot(x, y2, 'orange')\n",
    "\n",
    "ax1.set_xlabel('Hour of Day')\n",
    "ax1.set_ylabel('Temperature (C)')\n",
    "ax2.set_ylabel('Relative Humidity (%)')\n",
    "ax1.legend(loc = 'best')\n",
    "x1 = [0,12,24,36,48,60,72,84,96,108]\n",
    "labels = ['9:00 AM','10:00 AM','11:00 AM','12:00 PM','1:00 PM','2:00 PM','3:00 PM','4:00 PM','5:00 PM','6:00 PM']\n",
    "plt.xticks(x1, labels, rotation=45)\n",
    "plt.xticks(rotation=45)\n",
    "ax1.legend(labels = ['Temperature', 'Humidity'], loc = 'best')\n",
    "ax2.legend(labels = ['Humidity', 'Humidity'], loc = 'best')\n",
    "\n",
    "plt.show()"
   ]
  },
  {
   "cell_type": "code",
   "execution_count": 177,
   "metadata": {
    "collapsed": true
   },
   "outputs": [],
   "source": [
    "y1 = df_3.Temperature.tolist()\n",
    "y2 = df_3.Relative_Humidity.tolist()\n",
    "x = df_3.Timestamp.tolist()\n",
    "y3 = df_3.out_t.tolist()\n",
    "y4 = df_3.out_h.tolist()"
   ]
  },
  {
   "cell_type": "code",
   "execution_count": 178,
   "metadata": {},
   "outputs": [
    {
     "name": "stderr",
     "output_type": "stream",
     "text": [
      "No handles with labels found to put in legend.\n"
     ]
    },
    {
     "data": {
      "image/png": "[encoded data removed]",
      "text/plain": [
       "<Figure size 432x288 with 2 Axes>"
      ]
     },
     "metadata": {},
     "output_type": "display_data"
    }
   ],
   "source": [
    "fig, ax1 = plt.subplots()\n",
    "labels = ['9:00 AM','10:00 AM','11:00 AM','12:00 PM','1:00 PM','2:00 PM','3:00 PM','4:00 PM','5:00 PM','6:00 PM']\n",
    "plt.xticks(x1, labels, rotation=45)\n",
    "#ax2 = ax1.twinx()\n",
    "ax1.plot(x, y1)\n",
    "ax1.plot(x, y3, 'purple')\n",
    "\n",
    "ax2 = ax1.twinx()\n",
    "ax2.plot(x, y2, 'orange')\n",
    "ax2.plot(x, y4, 'lime')\n",
    "\n",
    "ax1.set_xlabel('Hour of Day')\n",
    "ax1.set_ylabel('Temperature (C)')\n",
    "ax2.set_ylabel('Humidity (%)')\n",
    "ax1.legend(loc = 'best')\n",
    "x1 = [0,12,24,36,48,60,72,84,96,108]\n",
    "labels = ['9:00 AM','10:00 AM','11:00 AM','12:00 PM','1:00 PM','2:00 PM','3:00 PM','4:00 PM','5:00 PM','6:00 PM']\n",
    "plt.xticks(x1, labels, rotation=45)\n",
    "plt.xticks(rotation=45)\n",
    "ax1.legend(labels = ['Indoor Temp','Outdoor Temp'], loc = 'lower left')\n",
    "ax2.legend(labels = ['Indoor Hum', 'Outdoor Hum'], loc = 'best')\n",
    "\n",
    "\n",
    "plt.show()"
   ]
  },
  {
   "cell_type": "code",
   "execution_count": 179,
   "metadata": {
    "collapsed": true
   },
   "outputs": [],
   "source": [
    "df_4 = pd.read_csv('Ries/3-7-behavior.csv')"
   ]
  },
  {
   "cell_type": "code",
   "execution_count": 180,
   "metadata": {},
   "outputs": [
    {
     "data": {
      "image/png": "[encoded data removed]",
      "text/plain": [
       "<Figure size 432x288 with 1 Axes>"
      ]
     },
     "metadata": {},
     "output_type": "display_data"
    }
   ],
   "source": [
    "plt.subplot(3,1,1)\n",
    "df_4.Window.plot(color = 'green')\n",
    "#plt.xlabel('Hour of Day')\n",
    "plt.ylabel('Actual Status',fontsize=8)\n",
    "plt.xticks([])\n",
    "plt.yticks([0,1])  \n",
    "plt.legend(loc='best')\n",
    "plt.show()"
   ]
  },
  {
   "cell_type": "code",
   "execution_count": 181,
   "metadata": {},
   "outputs": [
    {
     "data": {
      "image/png": "[encoded data removed]",
      "text/plain": [
       "<Figure size 432x288 with 1 Axes>"
      ]
     },
     "metadata": {},
     "output_type": "display_data"
    }
   ],
   "source": [
    "plt.subplot(311)\n",
    "ax=df_4.Window_sim.plot(color = \"red\")\n",
    "#plt.xlabel('Hour of Day')\n",
    "ax.yaxis.set_label_position(\"right\")\n",
    "plt.ylabel('Simulated Status',fontsize=8)\n",
    "\n",
    "plt.xticks([])\n",
    "plt.yticks([0,1])\n",
    "L=plt.legend()\n",
    "L.get_texts()[0].set_text('Window')\n",
    "plt.show()"
   ]
  },
  {
   "cell_type": "code",
   "execution_count": 182,
   "metadata": {},
   "outputs": [
    {
     "data": {
      "image/png": "[encoded data removed]",
      "text/plain": [
       "<Figure size 432x288 with 1 Axes>"
      ]
     },
     "metadata": {},
     "output_type": "display_data"
    }
   ],
   "source": [
    "plt.subplot(2,1,1)\n",
    "df_4.Blinds.plot(color = 'green')\n",
    "#plt.xlabel('Hour of Day')\n",
    "plt.ylabel('Actual Status',fontsize=8)\n",
    "plt.xticks([])\n",
    "plt.yticks([0,1])  \n",
    "plt.legend(loc='best')\n",
    "plt.show()"
   ]
  },
  {
   "cell_type": "code",
   "execution_count": 185,
   "metadata": {},
   "outputs": [
    {
     "data": {
      "image/png": "[encoded data removed]",
      "text/plain": [
       "<Figure size 432x288 with 1 Axes>"
      ]
     },
     "metadata": {},
     "output_type": "display_data"
    }
   ],
   "source": [
    "plt.subplot(211)\n",
    "ax=df_4.Blinds_sim.plot(color = \"red\")\n",
    "#plt.xlabel('Hour of Day')\n",
    "ax.yaxis.set_label_position(\"left\")\n",
    "plt.ylabel('Simulated Status',fontsize=8)\n",
    "\n",
    "plt.xticks([])\n",
    "plt.yticks([0,1])\n",
    "L=plt.legend()\n",
    "L.get_texts()[0].set_text('Blinds')\n",
    "plt.show()"
   ]
  },
  {
   "cell_type": "code",
   "execution_count": 186,
   "metadata": {},
   "outputs": [
    {
     "data": {
      "image/png": "[encoded data removed]",
      "text/plain": [
       "<Figure size 432x288 with 1 Axes>"
      ]
     },
     "metadata": {},
     "output_type": "display_data"
    }
   ],
   "source": [
    "plt.subplot(3,1,1)\n",
    "df_4.Door.plot(color = 'green')\n",
    "#plt.xlabel('Hour of Day')\n",
    "plt.ylabel('Actual Status',fontsize=8)\n",
    "plt.xticks([])\n",
    "plt.yticks([0,1])  \n",
    "plt.legend(loc='best')\n",
    "plt.show()"
   ]
  },
  {
   "cell_type": "code",
   "execution_count": 188,
   "metadata": {},
   "outputs": [
    {
     "data": {
      "image/png": "[encoded data removed]",
      "text/plain": [
       "<Figure size 432x288 with 1 Axes>"
      ]
     },
     "metadata": {},
     "output_type": "display_data"
    }
   ],
   "source": [
    "plt.subplot(311)\n",
    "ax=df_4.Door_sim.plot(color = \"red\")\n",
    "#plt.xlabel('Hour of Day')\n",
    "ax.yaxis.set_label_position(\"right\")\n",
    "plt.ylabel('Simulated Status',fontsize=8)\n",
    "\n",
    "plt.xticks([])\n",
    "plt.yticks([0,1])\n",
    "L=plt.legend()\n",
    "L.get_texts()[0].set_text('Door')\n",
    "plt.show()"
   ]
  },
  {
   "cell_type": "code",
   "execution_count": null,
   "metadata": {
    "collapsed": true
   },
   "outputs": [],
   "source": []
  }
 ],
 "metadata": {
  "kernelspec": {
   "display_name": "Python 3",
   "language": "python",
   "name": "python3"
  },
  "language_info": {
   "codemirror_mode": {
    "name": "ipython",
    "version": 3
   },
   "file_extension": ".py",
   "mimetype": "text/x-python",
   "name": "python",
   "nbconvert_exporter": "python",
   "pygments_lexer": "ipython3",
   "version": "3.6.3"
  }
 },
 "nbformat": 4,
 "nbformat_minor": 2
}
